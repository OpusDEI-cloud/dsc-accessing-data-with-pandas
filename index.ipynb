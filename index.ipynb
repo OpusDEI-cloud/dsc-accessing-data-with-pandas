{
 "cells": [
  {
   "cell_type": "markdown",
   "metadata": {},
   "source": [
    "# Accessing Data within Pandas\n",
    "\n",
    "## Introduction\n",
    "In this lesson, we're going to dig into various methods for accessing data from our Pandas Series and DataFrames.\n",
    "\n",
    "## Objectives\n",
    "\n",
    "You will be able to:\n",
    "\n",
    "- Use pandas methods and attributes to access information about a dataset   \n",
    "- Index pandas dataframes with .loc, .iloc, and column names   \n",
    "- Use a boolean mask to index pandas series and dataframes \n",
    "\n",
    "\n",
    "\n",
    "\n",
    "## Importing pandas and the data\n",
    "\n",
    "First, let's make sure we import `pandas` as `pd`."
   ]
  },
  {
   "cell_type": "code",
   "execution_count": 45,
   "metadata": {},
   "outputs": [],
   "source": [
    "import pandas as pd"
   ]
  },
  {
   "cell_type": "markdown",
   "metadata": {},
   "source": [
    "To show how to access data with Pandas, let's use the `wine` dataset in the scikit-learn library. Don't worry about the code below. We're essentially just making sure you have access to the `wine` dataset.\n",
    "\n",
    "The data contained in the wine dataset are the results of a chemical analysis of wines grown in Italy. It contains the quantities of 13 wine constituents. "
   ]
  },
  {
   "cell_type": "code",
   "execution_count": 46,
   "metadata": {},
   "outputs": [],
   "source": [
    "from sklearn.datasets import load_wine\n",
    "\n",
    "data = load_wine()\n",
    "df = pd.DataFrame(data.data, columns=data.feature_names)"
   ]
  },
  {
   "cell_type": "markdown",
   "metadata": {},
   "source": [
    "Our data set is now stored in the variable `df`. As you know, you can look at its elements by using `df` or `print(df)`."
   ]
  },
  {
   "cell_type": "code",
   "execution_count": 47,
   "metadata": {},
   "outputs": [
    {
     "name": "stdout",
     "output_type": "stream",
     "text": [
      "     alcohol  malic_acid   ash  alcalinity_of_ash  magnesium  total_phenols  \\\n",
      "0      14.23        1.71  2.43               15.6      127.0           2.80   \n",
      "1      13.20        1.78  2.14               11.2      100.0           2.65   \n",
      "2      13.16        2.36  2.67               18.6      101.0           2.80   \n",
      "3      14.37        1.95  2.50               16.8      113.0           3.85   \n",
      "4      13.24        2.59  2.87               21.0      118.0           2.80   \n",
      "..       ...         ...   ...                ...        ...            ...   \n",
      "173    13.71        5.65  2.45               20.5       95.0           1.68   \n",
      "174    13.40        3.91  2.48               23.0      102.0           1.80   \n",
      "175    13.27        4.28  2.26               20.0      120.0           1.59   \n",
      "176    13.17        2.59  2.37               20.0      120.0           1.65   \n",
      "177    14.13        4.10  2.74               24.5       96.0           2.05   \n",
      "\n",
      "     flavanoids  nonflavanoid_phenols  proanthocyanins  color_intensity   hue  \\\n",
      "0          3.06                  0.28             2.29             5.64  1.04   \n",
      "1          2.76                  0.26             1.28             4.38  1.05   \n",
      "2          3.24                  0.30             2.81             5.68  1.03   \n",
      "3          3.49                  0.24             2.18             7.80  0.86   \n",
      "4          2.69                  0.39             1.82             4.32  1.04   \n",
      "..          ...                   ...              ...              ...   ...   \n",
      "173        0.61                  0.52             1.06             7.70  0.64   \n",
      "174        0.75                  0.43             1.41             7.30  0.70   \n",
      "175        0.69                  0.43             1.35            10.20  0.59   \n",
      "176        0.68                  0.53             1.46             9.30  0.60   \n",
      "177        0.76                  0.56             1.35             9.20  0.61   \n",
      "\n",
      "     od280/od315_of_diluted_wines  proline  \n",
      "0                            3.92   1065.0  \n",
      "1                            3.40   1050.0  \n",
      "2                            3.17   1185.0  \n",
      "3                            3.45   1480.0  \n",
      "4                            2.93    735.0  \n",
      "..                            ...      ...  \n",
      "173                          1.74    740.0  \n",
      "174                          1.56    750.0  \n",
      "175                          1.56    835.0  \n",
      "176                          1.62    840.0  \n",
      "177                          1.60    560.0  \n",
      "\n",
      "[178 rows x 13 columns]\n"
     ]
    }
   ],
   "source": [
    "print(df)"
   ]
  },
  {
   "cell_type": "markdown",
   "metadata": {},
   "source": [
    "Now, what if you want to see only a few lines of the data, based on certain constraints? You'll learn how to access data in this lesson."
   ]
  },
  {
   "cell_type": "markdown",
   "metadata": {},
   "source": [
    "## Methods and attributes to access data information"
   ]
  },
  {
   "cell_type": "markdown",
   "metadata": {},
   "source": [
    "It won't be a surprise that our `df` object is a Pandas DataFrame object. Let's verify this using the `type()` function: "
   ]
  },
  {
   "cell_type": "code",
   "execution_count": 48,
   "metadata": {},
   "outputs": [
    {
     "data": {
      "text/plain": [
       "pandas.core.frame.DataFrame"
      ]
     },
     "execution_count": 48,
     "metadata": {},
     "output_type": "execute_result"
    }
   ],
   "source": [
    "type(df)"
   ]
  },
  {
   "cell_type": "markdown",
   "metadata": {},
   "source": [
    "There are some methods and attributes associated with Pandas objects (both DataFrames *and* series) which make retrieving information from the data particularly easy. Some commonly used methods:\n",
    "- `.head()`\n",
    "- `.tail()`\n",
    "\n",
    "And attributes:\n",
    "- `.index`\n",
    "- `.columns`\n",
    "- `.dtypes`\n",
    "- `.shape`"
   ]
  },
  {
   "cell_type": "markdown",
   "metadata": {},
   "source": [
    "### Some methods: `.head()`, `.tail()`, and `.info()`"
   ]
  },
  {
   "cell_type": "markdown",
   "metadata": {},
   "source": [
    "By using `.head()` and `.tail()`, you can select the first $n$ rows from your dataframe. The default $n$ is 5, but you can change this value inside the parentheses. For example:"
   ]
  },
  {
   "cell_type": "code",
   "execution_count": 49,
   "metadata": {},
   "outputs": [
    {
     "data": {
      "application/vnd.microsoft.datawrangler.viewer.v0+json": {
       "columns": [
        {
         "name": "index",
         "rawType": "int64",
         "type": "integer"
        },
        {
         "name": "alcohol",
         "rawType": "float64",
         "type": "float"
        },
        {
         "name": "malic_acid",
         "rawType": "float64",
         "type": "float"
        },
        {
         "name": "ash",
         "rawType": "float64",
         "type": "float"
        },
        {
         "name": "alcalinity_of_ash",
         "rawType": "float64",
         "type": "float"
        },
        {
         "name": "magnesium",
         "rawType": "float64",
         "type": "float"
        },
        {
         "name": "total_phenols",
         "rawType": "float64",
         "type": "float"
        },
        {
         "name": "flavanoids",
         "rawType": "float64",
         "type": "float"
        },
        {
         "name": "nonflavanoid_phenols",
         "rawType": "float64",
         "type": "float"
        },
        {
         "name": "proanthocyanins",
         "rawType": "float64",
         "type": "float"
        },
        {
         "name": "color_intensity",
         "rawType": "float64",
         "type": "float"
        },
        {
         "name": "hue",
         "rawType": "float64",
         "type": "float"
        },
        {
         "name": "od280/od315_of_diluted_wines",
         "rawType": "float64",
         "type": "float"
        },
        {
         "name": "proline",
         "rawType": "float64",
         "type": "float"
        }
       ],
       "conversionMethod": "pd.DataFrame",
       "ref": "f84e611c-a46c-495d-b5f7-0f6112c6fe6c",
       "rows": [
        [
         "0",
         "14.23",
         "1.71",
         "2.43",
         "15.6",
         "127.0",
         "2.8",
         "3.06",
         "0.28",
         "2.29",
         "5.64",
         "1.04",
         "3.92",
         "1065.0"
        ],
        [
         "1",
         "13.2",
         "1.78",
         "2.14",
         "11.2",
         "100.0",
         "2.65",
         "2.76",
         "0.26",
         "1.28",
         "4.38",
         "1.05",
         "3.4",
         "1050.0"
        ],
        [
         "2",
         "13.16",
         "2.36",
         "2.67",
         "18.6",
         "101.0",
         "2.8",
         "3.24",
         "0.3",
         "2.81",
         "5.68",
         "1.03",
         "3.17",
         "1185.0"
        ],
        [
         "3",
         "14.37",
         "1.95",
         "2.5",
         "16.8",
         "113.0",
         "3.85",
         "3.49",
         "0.24",
         "2.18",
         "7.8",
         "0.86",
         "3.45",
         "1480.0"
        ],
        [
         "4",
         "13.24",
         "2.59",
         "2.87",
         "21.0",
         "118.0",
         "2.8",
         "2.69",
         "0.39",
         "1.82",
         "4.32",
         "1.04",
         "2.93",
         "735.0"
        ]
       ],
       "shape": {
        "columns": 13,
        "rows": 5
       }
      },
      "text/html": [
       "<div>\n",
       "<style scoped>\n",
       "    .dataframe tbody tr th:only-of-type {\n",
       "        vertical-align: middle;\n",
       "    }\n",
       "\n",
       "    .dataframe tbody tr th {\n",
       "        vertical-align: top;\n",
       "    }\n",
       "\n",
       "    .dataframe thead th {\n",
       "        text-align: right;\n",
       "    }\n",
       "</style>\n",
       "<table border=\"1\" class=\"dataframe\">\n",
       "  <thead>\n",
       "    <tr style=\"text-align: right;\">\n",
       "      <th></th>\n",
       "      <th>alcohol</th>\n",
       "      <th>malic_acid</th>\n",
       "      <th>ash</th>\n",
       "      <th>alcalinity_of_ash</th>\n",
       "      <th>magnesium</th>\n",
       "      <th>total_phenols</th>\n",
       "      <th>flavanoids</th>\n",
       "      <th>nonflavanoid_phenols</th>\n",
       "      <th>proanthocyanins</th>\n",
       "      <th>color_intensity</th>\n",
       "      <th>hue</th>\n",
       "      <th>od280/od315_of_diluted_wines</th>\n",
       "      <th>proline</th>\n",
       "    </tr>\n",
       "  </thead>\n",
       "  <tbody>\n",
       "    <tr>\n",
       "      <th>0</th>\n",
       "      <td>14.23</td>\n",
       "      <td>1.71</td>\n",
       "      <td>2.43</td>\n",
       "      <td>15.6</td>\n",
       "      <td>127.0</td>\n",
       "      <td>2.80</td>\n",
       "      <td>3.06</td>\n",
       "      <td>0.28</td>\n",
       "      <td>2.29</td>\n",
       "      <td>5.64</td>\n",
       "      <td>1.04</td>\n",
       "      <td>3.92</td>\n",
       "      <td>1065.0</td>\n",
       "    </tr>\n",
       "    <tr>\n",
       "      <th>1</th>\n",
       "      <td>13.20</td>\n",
       "      <td>1.78</td>\n",
       "      <td>2.14</td>\n",
       "      <td>11.2</td>\n",
       "      <td>100.0</td>\n",
       "      <td>2.65</td>\n",
       "      <td>2.76</td>\n",
       "      <td>0.26</td>\n",
       "      <td>1.28</td>\n",
       "      <td>4.38</td>\n",
       "      <td>1.05</td>\n",
       "      <td>3.40</td>\n",
       "      <td>1050.0</td>\n",
       "    </tr>\n",
       "    <tr>\n",
       "      <th>2</th>\n",
       "      <td>13.16</td>\n",
       "      <td>2.36</td>\n",
       "      <td>2.67</td>\n",
       "      <td>18.6</td>\n",
       "      <td>101.0</td>\n",
       "      <td>2.80</td>\n",
       "      <td>3.24</td>\n",
       "      <td>0.30</td>\n",
       "      <td>2.81</td>\n",
       "      <td>5.68</td>\n",
       "      <td>1.03</td>\n",
       "      <td>3.17</td>\n",
       "      <td>1185.0</td>\n",
       "    </tr>\n",
       "    <tr>\n",
       "      <th>3</th>\n",
       "      <td>14.37</td>\n",
       "      <td>1.95</td>\n",
       "      <td>2.50</td>\n",
       "      <td>16.8</td>\n",
       "      <td>113.0</td>\n",
       "      <td>3.85</td>\n",
       "      <td>3.49</td>\n",
       "      <td>0.24</td>\n",
       "      <td>2.18</td>\n",
       "      <td>7.80</td>\n",
       "      <td>0.86</td>\n",
       "      <td>3.45</td>\n",
       "      <td>1480.0</td>\n",
       "    </tr>\n",
       "    <tr>\n",
       "      <th>4</th>\n",
       "      <td>13.24</td>\n",
       "      <td>2.59</td>\n",
       "      <td>2.87</td>\n",
       "      <td>21.0</td>\n",
       "      <td>118.0</td>\n",
       "      <td>2.80</td>\n",
       "      <td>2.69</td>\n",
       "      <td>0.39</td>\n",
       "      <td>1.82</td>\n",
       "      <td>4.32</td>\n",
       "      <td>1.04</td>\n",
       "      <td>2.93</td>\n",
       "      <td>735.0</td>\n",
       "    </tr>\n",
       "  </tbody>\n",
       "</table>\n",
       "</div>"
      ],
      "text/plain": [
       "   alcohol  malic_acid   ash  alcalinity_of_ash  magnesium  total_phenols  \\\n",
       "0    14.23        1.71  2.43               15.6      127.0           2.80   \n",
       "1    13.20        1.78  2.14               11.2      100.0           2.65   \n",
       "2    13.16        2.36  2.67               18.6      101.0           2.80   \n",
       "3    14.37        1.95  2.50               16.8      113.0           3.85   \n",
       "4    13.24        2.59  2.87               21.0      118.0           2.80   \n",
       "\n",
       "   flavanoids  nonflavanoid_phenols  proanthocyanins  color_intensity   hue  \\\n",
       "0        3.06                  0.28             2.29             5.64  1.04   \n",
       "1        2.76                  0.26             1.28             4.38  1.05   \n",
       "2        3.24                  0.30             2.81             5.68  1.03   \n",
       "3        3.49                  0.24             2.18             7.80  0.86   \n",
       "4        2.69                  0.39             1.82             4.32  1.04   \n",
       "\n",
       "   od280/od315_of_diluted_wines  proline  \n",
       "0                          3.92   1065.0  \n",
       "1                          3.40   1050.0  \n",
       "2                          3.17   1185.0  \n",
       "3                          3.45   1480.0  \n",
       "4                          2.93    735.0  "
      ]
     },
     "execution_count": 49,
     "metadata": {},
     "output_type": "execute_result"
    }
   ],
   "source": [
    "# First 5 rows of df\n",
    "df.head()"
   ]
  },
  {
   "cell_type": "code",
   "execution_count": 50,
   "metadata": {},
   "outputs": [
    {
     "data": {
      "application/vnd.microsoft.datawrangler.viewer.v0+json": {
       "columns": [
        {
         "name": "index",
         "rawType": "int64",
         "type": "integer"
        },
        {
         "name": "alcohol",
         "rawType": "float64",
         "type": "float"
        },
        {
         "name": "malic_acid",
         "rawType": "float64",
         "type": "float"
        },
        {
         "name": "ash",
         "rawType": "float64",
         "type": "float"
        },
        {
         "name": "alcalinity_of_ash",
         "rawType": "float64",
         "type": "float"
        },
        {
         "name": "magnesium",
         "rawType": "float64",
         "type": "float"
        },
        {
         "name": "total_phenols",
         "rawType": "float64",
         "type": "float"
        },
        {
         "name": "flavanoids",
         "rawType": "float64",
         "type": "float"
        },
        {
         "name": "nonflavanoid_phenols",
         "rawType": "float64",
         "type": "float"
        },
        {
         "name": "proanthocyanins",
         "rawType": "float64",
         "type": "float"
        },
        {
         "name": "color_intensity",
         "rawType": "float64",
         "type": "float"
        },
        {
         "name": "hue",
         "rawType": "float64",
         "type": "float"
        },
        {
         "name": "od280/od315_of_diluted_wines",
         "rawType": "float64",
         "type": "float"
        },
        {
         "name": "proline",
         "rawType": "float64",
         "type": "float"
        }
       ],
       "conversionMethod": "pd.DataFrame",
       "ref": "bd80256e-ef0e-4df3-af65-9925627b95ae",
       "rows": [
        [
         "175",
         "13.27",
         "4.28",
         "2.26",
         "20.0",
         "120.0",
         "1.59",
         "0.69",
         "0.43",
         "1.35",
         "10.2",
         "0.59",
         "1.56",
         "835.0"
        ],
        [
         "176",
         "13.17",
         "2.59",
         "2.37",
         "20.0",
         "120.0",
         "1.65",
         "0.68",
         "0.53",
         "1.46",
         "9.3",
         "0.6",
         "1.62",
         "840.0"
        ],
        [
         "177",
         "14.13",
         "4.1",
         "2.74",
         "24.5",
         "96.0",
         "2.05",
         "0.76",
         "0.56",
         "1.35",
         "9.2",
         "0.61",
         "1.6",
         "560.0"
        ]
       ],
       "shape": {
        "columns": 13,
        "rows": 3
       }
      },
      "text/html": [
       "<div>\n",
       "<style scoped>\n",
       "    .dataframe tbody tr th:only-of-type {\n",
       "        vertical-align: middle;\n",
       "    }\n",
       "\n",
       "    .dataframe tbody tr th {\n",
       "        vertical-align: top;\n",
       "    }\n",
       "\n",
       "    .dataframe thead th {\n",
       "        text-align: right;\n",
       "    }\n",
       "</style>\n",
       "<table border=\"1\" class=\"dataframe\">\n",
       "  <thead>\n",
       "    <tr style=\"text-align: right;\">\n",
       "      <th></th>\n",
       "      <th>alcohol</th>\n",
       "      <th>malic_acid</th>\n",
       "      <th>ash</th>\n",
       "      <th>alcalinity_of_ash</th>\n",
       "      <th>magnesium</th>\n",
       "      <th>total_phenols</th>\n",
       "      <th>flavanoids</th>\n",
       "      <th>nonflavanoid_phenols</th>\n",
       "      <th>proanthocyanins</th>\n",
       "      <th>color_intensity</th>\n",
       "      <th>hue</th>\n",
       "      <th>od280/od315_of_diluted_wines</th>\n",
       "      <th>proline</th>\n",
       "    </tr>\n",
       "  </thead>\n",
       "  <tbody>\n",
       "    <tr>\n",
       "      <th>175</th>\n",
       "      <td>13.27</td>\n",
       "      <td>4.28</td>\n",
       "      <td>2.26</td>\n",
       "      <td>20.0</td>\n",
       "      <td>120.0</td>\n",
       "      <td>1.59</td>\n",
       "      <td>0.69</td>\n",
       "      <td>0.43</td>\n",
       "      <td>1.35</td>\n",
       "      <td>10.2</td>\n",
       "      <td>0.59</td>\n",
       "      <td>1.56</td>\n",
       "      <td>835.0</td>\n",
       "    </tr>\n",
       "    <tr>\n",
       "      <th>176</th>\n",
       "      <td>13.17</td>\n",
       "      <td>2.59</td>\n",
       "      <td>2.37</td>\n",
       "      <td>20.0</td>\n",
       "      <td>120.0</td>\n",
       "      <td>1.65</td>\n",
       "      <td>0.68</td>\n",
       "      <td>0.53</td>\n",
       "      <td>1.46</td>\n",
       "      <td>9.3</td>\n",
       "      <td>0.60</td>\n",
       "      <td>1.62</td>\n",
       "      <td>840.0</td>\n",
       "    </tr>\n",
       "    <tr>\n",
       "      <th>177</th>\n",
       "      <td>14.13</td>\n",
       "      <td>4.10</td>\n",
       "      <td>2.74</td>\n",
       "      <td>24.5</td>\n",
       "      <td>96.0</td>\n",
       "      <td>2.05</td>\n",
       "      <td>0.76</td>\n",
       "      <td>0.56</td>\n",
       "      <td>1.35</td>\n",
       "      <td>9.2</td>\n",
       "      <td>0.61</td>\n",
       "      <td>1.60</td>\n",
       "      <td>560.0</td>\n",
       "    </tr>\n",
       "  </tbody>\n",
       "</table>\n",
       "</div>"
      ],
      "text/plain": [
       "     alcohol  malic_acid   ash  alcalinity_of_ash  magnesium  total_phenols  \\\n",
       "175    13.27        4.28  2.26               20.0      120.0           1.59   \n",
       "176    13.17        2.59  2.37               20.0      120.0           1.65   \n",
       "177    14.13        4.10  2.74               24.5       96.0           2.05   \n",
       "\n",
       "     flavanoids  nonflavanoid_phenols  proanthocyanins  color_intensity   hue  \\\n",
       "175        0.69                  0.43             1.35             10.2  0.59   \n",
       "176        0.68                  0.53             1.46              9.3  0.60   \n",
       "177        0.76                  0.56             1.35              9.2  0.61   \n",
       "\n",
       "     od280/od315_of_diluted_wines  proline  \n",
       "175                          1.56    835.0  \n",
       "176                          1.62    840.0  \n",
       "177                          1.60    560.0  "
      ]
     },
     "execution_count": 50,
     "metadata": {},
     "output_type": "execute_result"
    }
   ],
   "source": [
    "# last 3 rows of df\n",
    "df.tail(3)"
   ]
  },
  {
   "cell_type": "markdown",
   "metadata": {},
   "source": [
    "To get a concise summary of the dataframe, you can use `.info()`: "
   ]
  },
  {
   "cell_type": "code",
   "execution_count": 51,
   "metadata": {},
   "outputs": [
    {
     "name": "stdout",
     "output_type": "stream",
     "text": [
      "<class 'pandas.core.frame.DataFrame'>\n",
      "RangeIndex: 178 entries, 0 to 177\n",
      "Data columns (total 13 columns):\n",
      " #   Column                        Non-Null Count  Dtype  \n",
      "---  ------                        --------------  -----  \n",
      " 0   alcohol                       178 non-null    float64\n",
      " 1   malic_acid                    178 non-null    float64\n",
      " 2   ash                           178 non-null    float64\n",
      " 3   alcalinity_of_ash             178 non-null    float64\n",
      " 4   magnesium                     178 non-null    float64\n",
      " 5   total_phenols                 178 non-null    float64\n",
      " 6   flavanoids                    178 non-null    float64\n",
      " 7   nonflavanoid_phenols          178 non-null    float64\n",
      " 8   proanthocyanins               178 non-null    float64\n",
      " 9   color_intensity               178 non-null    float64\n",
      " 10  hue                           178 non-null    float64\n",
      " 11  od280/od315_of_diluted_wines  178 non-null    float64\n",
      " 12  proline                       178 non-null    float64\n",
      "dtypes: float64(13)\n",
      "memory usage: 18.2 KB\n"
     ]
    }
   ],
   "source": [
    "df.info()"
   ]
  },
  {
   "cell_type": "markdown",
   "metadata": {},
   "source": [
    "### Some attributes"
   ]
  },
  {
   "cell_type": "markdown",
   "metadata": {},
   "source": [
    "Using `.index`, you can access the index or row labels of the DataFrame."
   ]
  },
  {
   "cell_type": "code",
   "execution_count": 52,
   "metadata": {},
   "outputs": [
    {
     "data": {
      "text/plain": [
       "RangeIndex(start=0, stop=178, step=1)"
      ]
     },
     "execution_count": 52,
     "metadata": {},
     "output_type": "execute_result"
    }
   ],
   "source": [
    "df.index"
   ]
  },
  {
   "cell_type": "markdown",
   "metadata": {},
   "source": [
    "Using `.columns`, you can access the column labels of the DataFrame."
   ]
  },
  {
   "cell_type": "code",
   "execution_count": 53,
   "metadata": {},
   "outputs": [
    {
     "data": {
      "text/plain": [
       "Index(['alcohol', 'malic_acid', 'ash', 'alcalinity_of_ash', 'magnesium',\n",
       "       'total_phenols', 'flavanoids', 'nonflavanoid_phenols',\n",
       "       'proanthocyanins', 'color_intensity', 'hue',\n",
       "       'od280/od315_of_diluted_wines', 'proline'],\n",
       "      dtype='object')"
      ]
     },
     "execution_count": 53,
     "metadata": {},
     "output_type": "execute_result"
    }
   ],
   "source": [
    "df.columns"
   ]
  },
  {
   "cell_type": "markdown",
   "metadata": {},
   "source": [
    "Using `.dtypes` returns the data types of all columns in the DataFrame (compare with `.info()`)"
   ]
  },
  {
   "cell_type": "code",
   "execution_count": 54,
   "metadata": {
    "scrolled": true
   },
   "outputs": [
    {
     "data": {
      "text/plain": [
       "alcohol                         float64\n",
       "malic_acid                      float64\n",
       "ash                             float64\n",
       "alcalinity_of_ash               float64\n",
       "magnesium                       float64\n",
       "total_phenols                   float64\n",
       "flavanoids                      float64\n",
       "nonflavanoid_phenols            float64\n",
       "proanthocyanins                 float64\n",
       "color_intensity                 float64\n",
       "hue                             float64\n",
       "od280/od315_of_diluted_wines    float64\n",
       "proline                         float64\n",
       "dtype: object"
      ]
     },
     "execution_count": 54,
     "metadata": {},
     "output_type": "execute_result"
    }
   ],
   "source": [
    "df.dtypes"
   ]
  },
  {
   "cell_type": "markdown",
   "metadata": {},
   "source": [
    "`.shape` returns a tuple representing the dimensionality  (in `(rows, columns)` ) of the DataFrame."
   ]
  },
  {
   "cell_type": "code",
   "execution_count": 55,
   "metadata": {},
   "outputs": [
    {
     "data": {
      "text/plain": [
       "(178, 13)"
      ]
     },
     "execution_count": 55,
     "metadata": {},
     "output_type": "execute_result"
    }
   ],
   "source": [
    "df.shape"
   ]
  },
  {
   "cell_type": "markdown",
   "metadata": {},
   "source": [
    "## Selecting DataFrame information"
   ]
  },
  {
   "cell_type": "markdown",
   "metadata": {},
   "source": [
    "Two very important attributes for Pandas when working with DataFrames are:\n",
    "- `.iloc`, which is a Pandas DataFrame indexer used for integer-location based indexing / selection by position \n",
    "- `.loc`, which has two use cases:\n",
    "       - Selecting by label / index\n",
    "       - Selecting with a boolean / conditional lookup\n"
   ]
  },
  {
   "cell_type": "markdown",
   "metadata": {},
   "source": [
    "### `.iloc`"
   ]
  },
  {
   "cell_type": "markdown",
   "metadata": {},
   "source": [
    "You can use `.iloc` to select single rows. To select the 4th row, you can use `.iloc[3]` like:"
   ]
  },
  {
   "cell_type": "code",
   "execution_count": 56,
   "metadata": {},
   "outputs": [
    {
     "data": {
      "text/plain": [
       "alcohol                           14.37\n",
       "malic_acid                         1.95\n",
       "ash                                2.50\n",
       "alcalinity_of_ash                 16.80\n",
       "magnesium                        113.00\n",
       "total_phenols                      3.85\n",
       "flavanoids                         3.49\n",
       "nonflavanoid_phenols               0.24\n",
       "proanthocyanins                    2.18\n",
       "color_intensity                    7.80\n",
       "hue                                0.86\n",
       "od280/od315_of_diluted_wines       3.45\n",
       "proline                         1480.00\n",
       "Name: 3, dtype: float64"
      ]
     },
     "execution_count": 56,
     "metadata": {},
     "output_type": "execute_result"
    }
   ],
   "source": [
    "df.iloc[3]"
   ]
  },
  {
   "cell_type": "markdown",
   "metadata": {},
   "source": [
    "You can use a colon to select several rows. Note that you'll use a structure `.iloc[a:b]` where the row with index `a` will be included in the selection and the row with index `b` is excluded."
   ]
  },
  {
   "cell_type": "code",
   "execution_count": 57,
   "metadata": {},
   "outputs": [
    {
     "data": {
      "application/vnd.microsoft.datawrangler.viewer.v0+json": {
       "columns": [
        {
         "name": "index",
         "rawType": "int64",
         "type": "integer"
        },
        {
         "name": "alcohol",
         "rawType": "float64",
         "type": "float"
        },
        {
         "name": "malic_acid",
         "rawType": "float64",
         "type": "float"
        },
        {
         "name": "ash",
         "rawType": "float64",
         "type": "float"
        },
        {
         "name": "alcalinity_of_ash",
         "rawType": "float64",
         "type": "float"
        },
        {
         "name": "magnesium",
         "rawType": "float64",
         "type": "float"
        },
        {
         "name": "total_phenols",
         "rawType": "float64",
         "type": "float"
        },
        {
         "name": "flavanoids",
         "rawType": "float64",
         "type": "float"
        },
        {
         "name": "nonflavanoid_phenols",
         "rawType": "float64",
         "type": "float"
        },
        {
         "name": "proanthocyanins",
         "rawType": "float64",
         "type": "float"
        },
        {
         "name": "color_intensity",
         "rawType": "float64",
         "type": "float"
        },
        {
         "name": "hue",
         "rawType": "float64",
         "type": "float"
        },
        {
         "name": "od280/od315_of_diluted_wines",
         "rawType": "float64",
         "type": "float"
        },
        {
         "name": "proline",
         "rawType": "float64",
         "type": "float"
        }
       ],
       "conversionMethod": "pd.DataFrame",
       "ref": "f69e8942-d0c1-41c2-b655-dca223b17fb1",
       "rows": [
        [
         "5",
         "14.2",
         "1.76",
         "2.45",
         "15.2",
         "112.0",
         "3.27",
         "3.39",
         "0.34",
         "1.97",
         "6.75",
         "1.05",
         "2.85",
         "1450.0"
        ],
        [
         "6",
         "14.39",
         "1.87",
         "2.45",
         "14.6",
         "96.0",
         "2.5",
         "2.52",
         "0.3",
         "1.98",
         "5.25",
         "1.02",
         "3.58",
         "1290.0"
        ],
        [
         "7",
         "14.06",
         "2.15",
         "2.61",
         "17.6",
         "121.0",
         "2.6",
         "2.51",
         "0.31",
         "1.25",
         "5.05",
         "1.06",
         "3.58",
         "1295.0"
        ]
       ],
       "shape": {
        "columns": 13,
        "rows": 3
       }
      },
      "text/html": [
       "<div>\n",
       "<style scoped>\n",
       "    .dataframe tbody tr th:only-of-type {\n",
       "        vertical-align: middle;\n",
       "    }\n",
       "\n",
       "    .dataframe tbody tr th {\n",
       "        vertical-align: top;\n",
       "    }\n",
       "\n",
       "    .dataframe thead th {\n",
       "        text-align: right;\n",
       "    }\n",
       "</style>\n",
       "<table border=\"1\" class=\"dataframe\">\n",
       "  <thead>\n",
       "    <tr style=\"text-align: right;\">\n",
       "      <th></th>\n",
       "      <th>alcohol</th>\n",
       "      <th>malic_acid</th>\n",
       "      <th>ash</th>\n",
       "      <th>alcalinity_of_ash</th>\n",
       "      <th>magnesium</th>\n",
       "      <th>total_phenols</th>\n",
       "      <th>flavanoids</th>\n",
       "      <th>nonflavanoid_phenols</th>\n",
       "      <th>proanthocyanins</th>\n",
       "      <th>color_intensity</th>\n",
       "      <th>hue</th>\n",
       "      <th>od280/od315_of_diluted_wines</th>\n",
       "      <th>proline</th>\n",
       "    </tr>\n",
       "  </thead>\n",
       "  <tbody>\n",
       "    <tr>\n",
       "      <th>5</th>\n",
       "      <td>14.20</td>\n",
       "      <td>1.76</td>\n",
       "      <td>2.45</td>\n",
       "      <td>15.2</td>\n",
       "      <td>112.0</td>\n",
       "      <td>3.27</td>\n",
       "      <td>3.39</td>\n",
       "      <td>0.34</td>\n",
       "      <td>1.97</td>\n",
       "      <td>6.75</td>\n",
       "      <td>1.05</td>\n",
       "      <td>2.85</td>\n",
       "      <td>1450.0</td>\n",
       "    </tr>\n",
       "    <tr>\n",
       "      <th>6</th>\n",
       "      <td>14.39</td>\n",
       "      <td>1.87</td>\n",
       "      <td>2.45</td>\n",
       "      <td>14.6</td>\n",
       "      <td>96.0</td>\n",
       "      <td>2.50</td>\n",
       "      <td>2.52</td>\n",
       "      <td>0.30</td>\n",
       "      <td>1.98</td>\n",
       "      <td>5.25</td>\n",
       "      <td>1.02</td>\n",
       "      <td>3.58</td>\n",
       "      <td>1290.0</td>\n",
       "    </tr>\n",
       "    <tr>\n",
       "      <th>7</th>\n",
       "      <td>14.06</td>\n",
       "      <td>2.15</td>\n",
       "      <td>2.61</td>\n",
       "      <td>17.6</td>\n",
       "      <td>121.0</td>\n",
       "      <td>2.60</td>\n",
       "      <td>2.51</td>\n",
       "      <td>0.31</td>\n",
       "      <td>1.25</td>\n",
       "      <td>5.05</td>\n",
       "      <td>1.06</td>\n",
       "      <td>3.58</td>\n",
       "      <td>1295.0</td>\n",
       "    </tr>\n",
       "  </tbody>\n",
       "</table>\n",
       "</div>"
      ],
      "text/plain": [
       "   alcohol  malic_acid   ash  alcalinity_of_ash  magnesium  total_phenols  \\\n",
       "5    14.20        1.76  2.45               15.2      112.0           3.27   \n",
       "6    14.39        1.87  2.45               14.6       96.0           2.50   \n",
       "7    14.06        2.15  2.61               17.6      121.0           2.60   \n",
       "\n",
       "   flavanoids  nonflavanoid_phenols  proanthocyanins  color_intensity   hue  \\\n",
       "5        3.39                  0.34             1.97             6.75  1.05   \n",
       "6        2.52                  0.30             1.98             5.25  1.02   \n",
       "7        2.51                  0.31             1.25             5.05  1.06   \n",
       "\n",
       "   od280/od315_of_diluted_wines  proline  \n",
       "5                          2.85   1450.0  \n",
       "6                          3.58   1290.0  \n",
       "7                          3.58   1295.0  "
      ]
     },
     "execution_count": 57,
     "metadata": {},
     "output_type": "execute_result"
    }
   ],
   "source": [
    "df.iloc[5:8]"
   ]
  },
  {
   "cell_type": "markdown",
   "metadata": {},
   "source": [
    "Next, you can use `,` to perform *column* selections based on their index as well. The command below selects full columns 3-6:"
   ]
  },
  {
   "cell_type": "code",
   "execution_count": 58,
   "metadata": {},
   "outputs": [
    {
     "data": {
      "application/vnd.microsoft.datawrangler.viewer.v0+json": {
       "columns": [
        {
         "name": "index",
         "rawType": "int64",
         "type": "integer"
        },
        {
         "name": "alcalinity_of_ash",
         "rawType": "float64",
         "type": "float"
        },
        {
         "name": "magnesium",
         "rawType": "float64",
         "type": "float"
        },
        {
         "name": "total_phenols",
         "rawType": "float64",
         "type": "float"
        },
        {
         "name": "flavanoids",
         "rawType": "float64",
         "type": "float"
        }
       ],
       "conversionMethod": "pd.DataFrame",
       "ref": "4f2fbfb2-dcd4-4899-ab8f-a36363285951",
       "rows": [
        [
         "0",
         "15.6",
         "127.0",
         "2.8",
         "3.06"
        ],
        [
         "1",
         "11.2",
         "100.0",
         "2.65",
         "2.76"
        ],
        [
         "2",
         "18.6",
         "101.0",
         "2.8",
         "3.24"
        ],
        [
         "3",
         "16.8",
         "113.0",
         "3.85",
         "3.49"
        ],
        [
         "4",
         "21.0",
         "118.0",
         "2.8",
         "2.69"
        ],
        [
         "5",
         "15.2",
         "112.0",
         "3.27",
         "3.39"
        ],
        [
         "6",
         "14.6",
         "96.0",
         "2.5",
         "2.52"
        ],
        [
         "7",
         "17.6",
         "121.0",
         "2.6",
         "2.51"
        ],
        [
         "8",
         "14.0",
         "97.0",
         "2.8",
         "2.98"
        ],
        [
         "9",
         "16.0",
         "98.0",
         "2.98",
         "3.15"
        ],
        [
         "10",
         "18.0",
         "105.0",
         "2.95",
         "3.32"
        ],
        [
         "11",
         "16.8",
         "95.0",
         "2.2",
         "2.43"
        ],
        [
         "12",
         "16.0",
         "89.0",
         "2.6",
         "2.76"
        ],
        [
         "13",
         "11.4",
         "91.0",
         "3.1",
         "3.69"
        ],
        [
         "14",
         "12.0",
         "102.0",
         "3.3",
         "3.64"
        ],
        [
         "15",
         "17.2",
         "112.0",
         "2.85",
         "2.91"
        ],
        [
         "16",
         "20.0",
         "120.0",
         "2.8",
         "3.14"
        ],
        [
         "17",
         "20.0",
         "115.0",
         "2.95",
         "3.4"
        ],
        [
         "18",
         "16.5",
         "108.0",
         "3.3",
         "3.93"
        ],
        [
         "19",
         "15.2",
         "116.0",
         "2.7",
         "3.03"
        ],
        [
         "20",
         "16.0",
         "126.0",
         "3.0",
         "3.17"
        ],
        [
         "21",
         "18.6",
         "102.0",
         "2.41",
         "2.41"
        ],
        [
         "22",
         "16.6",
         "101.0",
         "2.61",
         "2.88"
        ],
        [
         "23",
         "17.8",
         "95.0",
         "2.48",
         "2.37"
        ],
        [
         "24",
         "20.0",
         "96.0",
         "2.53",
         "2.61"
        ],
        [
         "25",
         "25.0",
         "124.0",
         "2.63",
         "2.68"
        ],
        [
         "26",
         "16.1",
         "93.0",
         "2.85",
         "2.94"
        ],
        [
         "27",
         "17.0",
         "94.0",
         "2.4",
         "2.19"
        ],
        [
         "28",
         "19.4",
         "107.0",
         "2.95",
         "2.97"
        ],
        [
         "29",
         "16.0",
         "96.0",
         "2.65",
         "2.33"
        ],
        [
         "30",
         "22.5",
         "101.0",
         "3.0",
         "3.25"
        ],
        [
         "31",
         "19.1",
         "106.0",
         "2.86",
         "3.19"
        ],
        [
         "32",
         "17.2",
         "104.0",
         "2.42",
         "2.69"
        ],
        [
         "33",
         "19.5",
         "132.0",
         "2.95",
         "2.74"
        ],
        [
         "34",
         "19.0",
         "110.0",
         "2.35",
         "2.53"
        ],
        [
         "35",
         "20.5",
         "100.0",
         "2.7",
         "2.98"
        ],
        [
         "36",
         "15.5",
         "110.0",
         "2.6",
         "2.68"
        ],
        [
         "37",
         "18.0",
         "98.0",
         "2.45",
         "2.43"
        ],
        [
         "38",
         "15.5",
         "98.0",
         "2.4",
         "2.64"
        ],
        [
         "39",
         "13.2",
         "128.0",
         "3.0",
         "3.04"
        ],
        [
         "40",
         "16.2",
         "117.0",
         "3.15",
         "3.29"
        ],
        [
         "41",
         "18.8",
         "90.0",
         "2.45",
         "2.68"
        ],
        [
         "42",
         "15.0",
         "101.0",
         "3.25",
         "3.56"
        ],
        [
         "43",
         "17.5",
         "103.0",
         "2.64",
         "2.63"
        ],
        [
         "44",
         "17.0",
         "107.0",
         "3.0",
         "3.0"
        ],
        [
         "45",
         "18.9",
         "111.0",
         "2.85",
         "2.65"
        ],
        [
         "46",
         "16.0",
         "102.0",
         "3.25",
         "3.17"
        ],
        [
         "47",
         "16.0",
         "101.0",
         "3.1",
         "3.39"
        ],
        [
         "48",
         "18.8",
         "103.0",
         "2.75",
         "2.92"
        ],
        [
         "49",
         "17.4",
         "108.0",
         "2.88",
         "3.54"
        ]
       ],
       "shape": {
        "columns": 4,
        "rows": 178
       }
      },
      "text/html": [
       "<div>\n",
       "<style scoped>\n",
       "    .dataframe tbody tr th:only-of-type {\n",
       "        vertical-align: middle;\n",
       "    }\n",
       "\n",
       "    .dataframe tbody tr th {\n",
       "        vertical-align: top;\n",
       "    }\n",
       "\n",
       "    .dataframe thead th {\n",
       "        text-align: right;\n",
       "    }\n",
       "</style>\n",
       "<table border=\"1\" class=\"dataframe\">\n",
       "  <thead>\n",
       "    <tr style=\"text-align: right;\">\n",
       "      <th></th>\n",
       "      <th>alcalinity_of_ash</th>\n",
       "      <th>magnesium</th>\n",
       "      <th>total_phenols</th>\n",
       "      <th>flavanoids</th>\n",
       "    </tr>\n",
       "  </thead>\n",
       "  <tbody>\n",
       "    <tr>\n",
       "      <th>0</th>\n",
       "      <td>15.6</td>\n",
       "      <td>127.0</td>\n",
       "      <td>2.80</td>\n",
       "      <td>3.06</td>\n",
       "    </tr>\n",
       "    <tr>\n",
       "      <th>1</th>\n",
       "      <td>11.2</td>\n",
       "      <td>100.0</td>\n",
       "      <td>2.65</td>\n",
       "      <td>2.76</td>\n",
       "    </tr>\n",
       "    <tr>\n",
       "      <th>2</th>\n",
       "      <td>18.6</td>\n",
       "      <td>101.0</td>\n",
       "      <td>2.80</td>\n",
       "      <td>3.24</td>\n",
       "    </tr>\n",
       "    <tr>\n",
       "      <th>3</th>\n",
       "      <td>16.8</td>\n",
       "      <td>113.0</td>\n",
       "      <td>3.85</td>\n",
       "      <td>3.49</td>\n",
       "    </tr>\n",
       "    <tr>\n",
       "      <th>4</th>\n",
       "      <td>21.0</td>\n",
       "      <td>118.0</td>\n",
       "      <td>2.80</td>\n",
       "      <td>2.69</td>\n",
       "    </tr>\n",
       "    <tr>\n",
       "      <th>...</th>\n",
       "      <td>...</td>\n",
       "      <td>...</td>\n",
       "      <td>...</td>\n",
       "      <td>...</td>\n",
       "    </tr>\n",
       "    <tr>\n",
       "      <th>173</th>\n",
       "      <td>20.5</td>\n",
       "      <td>95.0</td>\n",
       "      <td>1.68</td>\n",
       "      <td>0.61</td>\n",
       "    </tr>\n",
       "    <tr>\n",
       "      <th>174</th>\n",
       "      <td>23.0</td>\n",
       "      <td>102.0</td>\n",
       "      <td>1.80</td>\n",
       "      <td>0.75</td>\n",
       "    </tr>\n",
       "    <tr>\n",
       "      <th>175</th>\n",
       "      <td>20.0</td>\n",
       "      <td>120.0</td>\n",
       "      <td>1.59</td>\n",
       "      <td>0.69</td>\n",
       "    </tr>\n",
       "    <tr>\n",
       "      <th>176</th>\n",
       "      <td>20.0</td>\n",
       "      <td>120.0</td>\n",
       "      <td>1.65</td>\n",
       "      <td>0.68</td>\n",
       "    </tr>\n",
       "    <tr>\n",
       "      <th>177</th>\n",
       "      <td>24.5</td>\n",
       "      <td>96.0</td>\n",
       "      <td>2.05</td>\n",
       "      <td>0.76</td>\n",
       "    </tr>\n",
       "  </tbody>\n",
       "</table>\n",
       "<p>178 rows × 4 columns</p>\n",
       "</div>"
      ],
      "text/plain": [
       "     alcalinity_of_ash  magnesium  total_phenols  flavanoids\n",
       "0                 15.6      127.0           2.80        3.06\n",
       "1                 11.2      100.0           2.65        2.76\n",
       "2                 18.6      101.0           2.80        3.24\n",
       "3                 16.8      113.0           3.85        3.49\n",
       "4                 21.0      118.0           2.80        2.69\n",
       "..                 ...        ...            ...         ...\n",
       "173               20.5       95.0           1.68        0.61\n",
       "174               23.0      102.0           1.80        0.75\n",
       "175               20.0      120.0           1.59        0.69\n",
       "176               20.0      120.0           1.65        0.68\n",
       "177               24.5       96.0           2.05        0.76\n",
       "\n",
       "[178 rows x 4 columns]"
      ]
     },
     "execution_count": 58,
     "metadata": {},
     "output_type": "execute_result"
    }
   ],
   "source": [
    "df.iloc[:, 3:7]"
   ]
  },
  {
   "cell_type": "markdown",
   "metadata": {},
   "source": [
    "Last but not least, you can perform column and row selections at once:"
   ]
  },
  {
   "cell_type": "code",
   "execution_count": 59,
   "metadata": {},
   "outputs": [
    {
     "data": {
      "application/vnd.microsoft.datawrangler.viewer.v0+json": {
       "columns": [
        {
         "name": "index",
         "rawType": "int64",
         "type": "integer"
        },
        {
         "name": "alcalinity_of_ash",
         "rawType": "float64",
         "type": "float"
        },
        {
         "name": "magnesium",
         "rawType": "float64",
         "type": "float"
        },
        {
         "name": "total_phenols",
         "rawType": "float64",
         "type": "float"
        },
        {
         "name": "flavanoids",
         "rawType": "float64",
         "type": "float"
        },
        {
         "name": "nonflavanoid_phenols",
         "rawType": "float64",
         "type": "float"
        },
        {
         "name": "proanthocyanins",
         "rawType": "float64",
         "type": "float"
        }
       ],
       "conversionMethod": "pd.DataFrame",
       "ref": "69731540-c7ae-4020-92d1-6a7746884298",
       "rows": [
        [
         "5",
         "15.2",
         "112.0",
         "3.27",
         "3.39",
         "0.34",
         "1.97"
        ],
        [
         "6",
         "14.6",
         "96.0",
         "2.5",
         "2.52",
         "0.3",
         "1.98"
        ],
        [
         "7",
         "17.6",
         "121.0",
         "2.6",
         "2.51",
         "0.31",
         "1.25"
        ],
        [
         "8",
         "14.0",
         "97.0",
         "2.8",
         "2.98",
         "0.29",
         "1.98"
        ],
        [
         "9",
         "16.0",
         "98.0",
         "2.98",
         "3.15",
         "0.22",
         "1.85"
        ]
       ],
       "shape": {
        "columns": 6,
        "rows": 5
       }
      },
      "text/html": [
       "<div>\n",
       "<style scoped>\n",
       "    .dataframe tbody tr th:only-of-type {\n",
       "        vertical-align: middle;\n",
       "    }\n",
       "\n",
       "    .dataframe tbody tr th {\n",
       "        vertical-align: top;\n",
       "    }\n",
       "\n",
       "    .dataframe thead th {\n",
       "        text-align: right;\n",
       "    }\n",
       "</style>\n",
       "<table border=\"1\" class=\"dataframe\">\n",
       "  <thead>\n",
       "    <tr style=\"text-align: right;\">\n",
       "      <th></th>\n",
       "      <th>alcalinity_of_ash</th>\n",
       "      <th>magnesium</th>\n",
       "      <th>total_phenols</th>\n",
       "      <th>flavanoids</th>\n",
       "      <th>nonflavanoid_phenols</th>\n",
       "      <th>proanthocyanins</th>\n",
       "    </tr>\n",
       "  </thead>\n",
       "  <tbody>\n",
       "    <tr>\n",
       "      <th>5</th>\n",
       "      <td>15.2</td>\n",
       "      <td>112.0</td>\n",
       "      <td>3.27</td>\n",
       "      <td>3.39</td>\n",
       "      <td>0.34</td>\n",
       "      <td>1.97</td>\n",
       "    </tr>\n",
       "    <tr>\n",
       "      <th>6</th>\n",
       "      <td>14.6</td>\n",
       "      <td>96.0</td>\n",
       "      <td>2.50</td>\n",
       "      <td>2.52</td>\n",
       "      <td>0.30</td>\n",
       "      <td>1.98</td>\n",
       "    </tr>\n",
       "    <tr>\n",
       "      <th>7</th>\n",
       "      <td>17.6</td>\n",
       "      <td>121.0</td>\n",
       "      <td>2.60</td>\n",
       "      <td>2.51</td>\n",
       "      <td>0.31</td>\n",
       "      <td>1.25</td>\n",
       "    </tr>\n",
       "    <tr>\n",
       "      <th>8</th>\n",
       "      <td>14.0</td>\n",
       "      <td>97.0</td>\n",
       "      <td>2.80</td>\n",
       "      <td>2.98</td>\n",
       "      <td>0.29</td>\n",
       "      <td>1.98</td>\n",
       "    </tr>\n",
       "    <tr>\n",
       "      <th>9</th>\n",
       "      <td>16.0</td>\n",
       "      <td>98.0</td>\n",
       "      <td>2.98</td>\n",
       "      <td>3.15</td>\n",
       "      <td>0.22</td>\n",
       "      <td>1.85</td>\n",
       "    </tr>\n",
       "  </tbody>\n",
       "</table>\n",
       "</div>"
      ],
      "text/plain": [
       "   alcalinity_of_ash  magnesium  total_phenols  flavanoids  \\\n",
       "5               15.2      112.0           3.27        3.39   \n",
       "6               14.6       96.0           2.50        2.52   \n",
       "7               17.6      121.0           2.60        2.51   \n",
       "8               14.0       97.0           2.80        2.98   \n",
       "9               16.0       98.0           2.98        3.15   \n",
       "\n",
       "   nonflavanoid_phenols  proanthocyanins  \n",
       "5                  0.34             1.97  \n",
       "6                  0.30             1.98  \n",
       "7                  0.31             1.25  \n",
       "8                  0.29             1.98  \n",
       "9                  0.22             1.85  "
      ]
     },
     "execution_count": 59,
     "metadata": {},
     "output_type": "execute_result"
    }
   ],
   "source": [
    "df.iloc[5:10, 3:9]"
   ]
  },
  {
   "cell_type": "markdown",
   "metadata": {},
   "source": [
    "### `.loc`"
   ]
  },
  {
   "cell_type": "markdown",
   "metadata": {},
   "source": [
    " #### a) `.loc` label-based indexing"
   ]
  },
  {
   "cell_type": "markdown",
   "metadata": {},
   "source": [
    "You can `.loc` to select columns based on their (row index and) column name. Examples:"
   ]
  },
  {
   "cell_type": "code",
   "execution_count": 60,
   "metadata": {},
   "outputs": [
    {
     "data": {
      "text/plain": [
       "0      127.0\n",
       "1      100.0\n",
       "2      101.0\n",
       "3      113.0\n",
       "4      118.0\n",
       "       ...  \n",
       "173     95.0\n",
       "174    102.0\n",
       "175    120.0\n",
       "176    120.0\n",
       "177     96.0\n",
       "Name: magnesium, Length: 178, dtype: float64"
      ]
     },
     "execution_count": 60,
     "metadata": {},
     "output_type": "execute_result"
    }
   ],
   "source": [
    "df.loc[:, 'magnesium']"
   ]
  },
  {
   "cell_type": "markdown",
   "metadata": {},
   "source": [
    "An alternative method here is simply calling `df['magnesium']`."
   ]
  },
  {
   "cell_type": "code",
   "execution_count": 61,
   "metadata": {},
   "outputs": [
    {
     "data": {
      "text/plain": [
       "7     121.0\n",
       "8      97.0\n",
       "9      98.0\n",
       "10    105.0\n",
       "11     95.0\n",
       "12     89.0\n",
       "13     91.0\n",
       "14    102.0\n",
       "15    112.0\n",
       "16    120.0\n",
       "Name: magnesium, dtype: float64"
      ]
     },
     "execution_count": 61,
     "metadata": {},
     "output_type": "execute_result"
    }
   ],
   "source": [
    "df.loc[7:16, 'magnesium']"
   ]
  },
  {
   "cell_type": "code",
   "execution_count": 62,
   "metadata": {},
   "outputs": [
    {
     "data": {
      "application/vnd.microsoft.datawrangler.viewer.v0+json": {
       "columns": [
        {
         "name": "index",
         "rawType": "int64",
         "type": "integer"
        },
        {
         "name": "magnesium",
         "rawType": "float64",
         "type": "float"
        },
        {
         "name": "total_phenols",
         "rawType": "float64",
         "type": "float"
        }
       ],
       "conversionMethod": "pd.DataFrame",
       "ref": "3ca1c5d3-e46b-4fb3-a934-9491829e2209",
       "rows": [
        [
         "7",
         "121.0",
         "2.6"
        ],
        [
         "8",
         "97.0",
         "2.8"
        ],
        [
         "9",
         "98.0",
         "2.98"
        ],
        [
         "10",
         "105.0",
         "2.95"
        ],
        [
         "11",
         "95.0",
         "2.2"
        ],
        [
         "12",
         "89.0",
         "2.6"
        ],
        [
         "13",
         "91.0",
         "3.1"
        ],
        [
         "14",
         "102.0",
         "3.3"
        ],
        [
         "15",
         "112.0",
         "2.85"
        ],
        [
         "16",
         "120.0",
         "2.8"
        ]
       ],
       "shape": {
        "columns": 2,
        "rows": 10
       }
      },
      "text/html": [
       "<div>\n",
       "<style scoped>\n",
       "    .dataframe tbody tr th:only-of-type {\n",
       "        vertical-align: middle;\n",
       "    }\n",
       "\n",
       "    .dataframe tbody tr th {\n",
       "        vertical-align: top;\n",
       "    }\n",
       "\n",
       "    .dataframe thead th {\n",
       "        text-align: right;\n",
       "    }\n",
       "</style>\n",
       "<table border=\"1\" class=\"dataframe\">\n",
       "  <thead>\n",
       "    <tr style=\"text-align: right;\">\n",
       "      <th></th>\n",
       "      <th>magnesium</th>\n",
       "      <th>total_phenols</th>\n",
       "    </tr>\n",
       "  </thead>\n",
       "  <tbody>\n",
       "    <tr>\n",
       "      <th>7</th>\n",
       "      <td>121.0</td>\n",
       "      <td>2.60</td>\n",
       "    </tr>\n",
       "    <tr>\n",
       "      <th>8</th>\n",
       "      <td>97.0</td>\n",
       "      <td>2.80</td>\n",
       "    </tr>\n",
       "    <tr>\n",
       "      <th>9</th>\n",
       "      <td>98.0</td>\n",
       "      <td>2.98</td>\n",
       "    </tr>\n",
       "    <tr>\n",
       "      <th>10</th>\n",
       "      <td>105.0</td>\n",
       "      <td>2.95</td>\n",
       "    </tr>\n",
       "    <tr>\n",
       "      <th>11</th>\n",
       "      <td>95.0</td>\n",
       "      <td>2.20</td>\n",
       "    </tr>\n",
       "    <tr>\n",
       "      <th>12</th>\n",
       "      <td>89.0</td>\n",
       "      <td>2.60</td>\n",
       "    </tr>\n",
       "    <tr>\n",
       "      <th>13</th>\n",
       "      <td>91.0</td>\n",
       "      <td>3.10</td>\n",
       "    </tr>\n",
       "    <tr>\n",
       "      <th>14</th>\n",
       "      <td>102.0</td>\n",
       "      <td>3.30</td>\n",
       "    </tr>\n",
       "    <tr>\n",
       "      <th>15</th>\n",
       "      <td>112.0</td>\n",
       "      <td>2.85</td>\n",
       "    </tr>\n",
       "    <tr>\n",
       "      <th>16</th>\n",
       "      <td>120.0</td>\n",
       "      <td>2.80</td>\n",
       "    </tr>\n",
       "  </tbody>\n",
       "</table>\n",
       "</div>"
      ],
      "text/plain": [
       "    magnesium  total_phenols\n",
       "7       121.0           2.60\n",
       "8        97.0           2.80\n",
       "9        98.0           2.98\n",
       "10      105.0           2.95\n",
       "11       95.0           2.20\n",
       "12       89.0           2.60\n",
       "13       91.0           3.10\n",
       "14      102.0           3.30\n",
       "15      112.0           2.85\n",
       "16      120.0           2.80"
      ]
     },
     "execution_count": 62,
     "metadata": {},
     "output_type": "execute_result"
    }
   ],
   "source": [
    "df.loc[7:16, 'magnesium':'total_phenols']"
   ]
  },
  {
   "cell_type": "markdown",
   "metadata": {},
   "source": [
    "#### b) boolean indexing using `.loc`"
   ]
  },
  {
   "cell_type": "markdown",
   "metadata": {},
   "source": [
    "Sometimes you'd like to select certain rows in your dataset based on the value for a certain variable. Imagine you'd like to create a new DataFrame that only contains the wines with an alcohol percentage below 12. This can be done as follows:"
   ]
  },
  {
   "cell_type": "code",
   "execution_count": 63,
   "metadata": {},
   "outputs": [
    {
     "data": {
      "application/vnd.microsoft.datawrangler.viewer.v0+json": {
       "columns": [
        {
         "name": "index",
         "rawType": "int64",
         "type": "integer"
        },
        {
         "name": "alcohol",
         "rawType": "float64",
         "type": "float"
        },
        {
         "name": "malic_acid",
         "rawType": "float64",
         "type": "float"
        },
        {
         "name": "ash",
         "rawType": "float64",
         "type": "float"
        },
        {
         "name": "alcalinity_of_ash",
         "rawType": "float64",
         "type": "float"
        },
        {
         "name": "magnesium",
         "rawType": "float64",
         "type": "float"
        },
        {
         "name": "total_phenols",
         "rawType": "float64",
         "type": "float"
        },
        {
         "name": "flavanoids",
         "rawType": "float64",
         "type": "float"
        },
        {
         "name": "nonflavanoid_phenols",
         "rawType": "float64",
         "type": "float"
        },
        {
         "name": "proanthocyanins",
         "rawType": "float64",
         "type": "float"
        },
        {
         "name": "color_intensity",
         "rawType": "float64",
         "type": "float"
        },
        {
         "name": "hue",
         "rawType": "float64",
         "type": "float"
        },
        {
         "name": "od280/od315_of_diluted_wines",
         "rawType": "float64",
         "type": "float"
        },
        {
         "name": "proline",
         "rawType": "float64",
         "type": "float"
        }
       ],
       "conversionMethod": "pd.DataFrame",
       "ref": "4ded1921-bb2e-404d-b20a-e7d57a0e69d4",
       "rows": [
        [
         "74",
         "11.96",
         "1.09",
         "2.3",
         "21.0",
         "101.0",
         "3.38",
         "2.14",
         "0.13",
         "1.65",
         "3.21",
         "0.99",
         "3.13",
         "886.0"
        ],
        [
         "75",
         "11.66",
         "1.88",
         "1.92",
         "16.0",
         "97.0",
         "1.61",
         "1.57",
         "0.34",
         "1.15",
         "3.8",
         "1.23",
         "2.14",
         "428.0"
        ],
        [
         "77",
         "11.84",
         "2.89",
         "2.23",
         "18.0",
         "112.0",
         "1.72",
         "1.32",
         "0.43",
         "0.95",
         "2.65",
         "0.96",
         "2.52",
         "500.0"
        ],
        [
         "84",
         "11.84",
         "0.89",
         "2.58",
         "18.0",
         "94.0",
         "2.2",
         "2.21",
         "0.22",
         "2.35",
         "3.05",
         "0.79",
         "3.08",
         "520.0"
        ],
        [
         "87",
         "11.65",
         "1.67",
         "2.62",
         "26.0",
         "88.0",
         "1.92",
         "1.61",
         "0.4",
         "1.34",
         "2.6",
         "1.36",
         "3.21",
         "562.0"
        ],
        [
         "88",
         "11.64",
         "2.06",
         "2.46",
         "21.6",
         "84.0",
         "1.95",
         "1.69",
         "0.48",
         "1.35",
         "2.8",
         "1.0",
         "2.75",
         "680.0"
        ],
        [
         "94",
         "11.62",
         "1.99",
         "2.28",
         "18.0",
         "98.0",
         "3.02",
         "2.26",
         "0.17",
         "1.35",
         "3.25",
         "1.16",
         "2.96",
         "345.0"
        ],
        [
         "96",
         "11.81",
         "2.12",
         "2.74",
         "21.5",
         "134.0",
         "1.6",
         "0.99",
         "0.14",
         "1.56",
         "2.5",
         "0.95",
         "2.26",
         "625.0"
        ],
        [
         "103",
         "11.82",
         "1.72",
         "1.88",
         "19.5",
         "86.0",
         "2.5",
         "1.64",
         "0.37",
         "1.42",
         "2.06",
         "0.94",
         "2.44",
         "415.0"
        ],
        [
         "109",
         "11.61",
         "1.35",
         "2.7",
         "20.0",
         "94.0",
         "2.74",
         "2.92",
         "0.29",
         "2.49",
         "2.65",
         "0.96",
         "3.26",
         "680.0"
        ],
        [
         "110",
         "11.46",
         "3.74",
         "1.82",
         "19.5",
         "107.0",
         "3.18",
         "2.58",
         "0.24",
         "3.58",
         "2.9",
         "0.75",
         "2.81",
         "562.0"
        ],
        [
         "112",
         "11.76",
         "2.68",
         "2.92",
         "20.0",
         "103.0",
         "1.75",
         "2.03",
         "0.6",
         "1.05",
         "3.8",
         "1.23",
         "2.5",
         "607.0"
        ],
        [
         "113",
         "11.41",
         "0.74",
         "2.5",
         "21.0",
         "88.0",
         "2.48",
         "2.01",
         "0.42",
         "1.44",
         "3.08",
         "1.1",
         "2.31",
         "434.0"
        ],
        [
         "115",
         "11.03",
         "1.51",
         "2.2",
         "21.5",
         "85.0",
         "2.46",
         "2.17",
         "0.52",
         "2.01",
         "1.9",
         "1.71",
         "2.87",
         "407.0"
        ],
        [
         "116",
         "11.82",
         "1.47",
         "1.99",
         "20.8",
         "86.0",
         "1.98",
         "1.6",
         "0.3",
         "1.53",
         "1.95",
         "0.95",
         "3.33",
         "495.0"
        ],
        [
         "120",
         "11.45",
         "2.4",
         "2.42",
         "20.0",
         "96.0",
         "2.9",
         "2.79",
         "0.32",
         "1.83",
         "3.25",
         "0.8",
         "3.39",
         "625.0"
        ],
        [
         "121",
         "11.56",
         "2.05",
         "3.23",
         "28.5",
         "119.0",
         "3.18",
         "5.08",
         "0.47",
         "1.87",
         "6.0",
         "0.93",
         "3.69",
         "465.0"
        ],
        [
         "124",
         "11.87",
         "4.31",
         "2.39",
         "21.0",
         "82.0",
         "2.86",
         "3.03",
         "0.21",
         "2.91",
         "2.8",
         "0.75",
         "3.64",
         "380.0"
        ],
        [
         "127",
         "11.79",
         "2.13",
         "2.78",
         "28.5",
         "92.0",
         "2.13",
         "2.24",
         "0.58",
         "1.76",
         "3.0",
         "0.97",
         "2.44",
         "466.0"
        ]
       ],
       "shape": {
        "columns": 13,
        "rows": 19
       }
      },
      "text/html": [
       "<div>\n",
       "<style scoped>\n",
       "    .dataframe tbody tr th:only-of-type {\n",
       "        vertical-align: middle;\n",
       "    }\n",
       "\n",
       "    .dataframe tbody tr th {\n",
       "        vertical-align: top;\n",
       "    }\n",
       "\n",
       "    .dataframe thead th {\n",
       "        text-align: right;\n",
       "    }\n",
       "</style>\n",
       "<table border=\"1\" class=\"dataframe\">\n",
       "  <thead>\n",
       "    <tr style=\"text-align: right;\">\n",
       "      <th></th>\n",
       "      <th>alcohol</th>\n",
       "      <th>malic_acid</th>\n",
       "      <th>ash</th>\n",
       "      <th>alcalinity_of_ash</th>\n",
       "      <th>magnesium</th>\n",
       "      <th>total_phenols</th>\n",
       "      <th>flavanoids</th>\n",
       "      <th>nonflavanoid_phenols</th>\n",
       "      <th>proanthocyanins</th>\n",
       "      <th>color_intensity</th>\n",
       "      <th>hue</th>\n",
       "      <th>od280/od315_of_diluted_wines</th>\n",
       "      <th>proline</th>\n",
       "    </tr>\n",
       "  </thead>\n",
       "  <tbody>\n",
       "    <tr>\n",
       "      <th>74</th>\n",
       "      <td>11.96</td>\n",
       "      <td>1.09</td>\n",
       "      <td>2.30</td>\n",
       "      <td>21.0</td>\n",
       "      <td>101.0</td>\n",
       "      <td>3.38</td>\n",
       "      <td>2.14</td>\n",
       "      <td>0.13</td>\n",
       "      <td>1.65</td>\n",
       "      <td>3.21</td>\n",
       "      <td>0.99</td>\n",
       "      <td>3.13</td>\n",
       "      <td>886.0</td>\n",
       "    </tr>\n",
       "    <tr>\n",
       "      <th>75</th>\n",
       "      <td>11.66</td>\n",
       "      <td>1.88</td>\n",
       "      <td>1.92</td>\n",
       "      <td>16.0</td>\n",
       "      <td>97.0</td>\n",
       "      <td>1.61</td>\n",
       "      <td>1.57</td>\n",
       "      <td>0.34</td>\n",
       "      <td>1.15</td>\n",
       "      <td>3.80</td>\n",
       "      <td>1.23</td>\n",
       "      <td>2.14</td>\n",
       "      <td>428.0</td>\n",
       "    </tr>\n",
       "    <tr>\n",
       "      <th>77</th>\n",
       "      <td>11.84</td>\n",
       "      <td>2.89</td>\n",
       "      <td>2.23</td>\n",
       "      <td>18.0</td>\n",
       "      <td>112.0</td>\n",
       "      <td>1.72</td>\n",
       "      <td>1.32</td>\n",
       "      <td>0.43</td>\n",
       "      <td>0.95</td>\n",
       "      <td>2.65</td>\n",
       "      <td>0.96</td>\n",
       "      <td>2.52</td>\n",
       "      <td>500.0</td>\n",
       "    </tr>\n",
       "    <tr>\n",
       "      <th>84</th>\n",
       "      <td>11.84</td>\n",
       "      <td>0.89</td>\n",
       "      <td>2.58</td>\n",
       "      <td>18.0</td>\n",
       "      <td>94.0</td>\n",
       "      <td>2.20</td>\n",
       "      <td>2.21</td>\n",
       "      <td>0.22</td>\n",
       "      <td>2.35</td>\n",
       "      <td>3.05</td>\n",
       "      <td>0.79</td>\n",
       "      <td>3.08</td>\n",
       "      <td>520.0</td>\n",
       "    </tr>\n",
       "    <tr>\n",
       "      <th>87</th>\n",
       "      <td>11.65</td>\n",
       "      <td>1.67</td>\n",
       "      <td>2.62</td>\n",
       "      <td>26.0</td>\n",
       "      <td>88.0</td>\n",
       "      <td>1.92</td>\n",
       "      <td>1.61</td>\n",
       "      <td>0.40</td>\n",
       "      <td>1.34</td>\n",
       "      <td>2.60</td>\n",
       "      <td>1.36</td>\n",
       "      <td>3.21</td>\n",
       "      <td>562.0</td>\n",
       "    </tr>\n",
       "    <tr>\n",
       "      <th>88</th>\n",
       "      <td>11.64</td>\n",
       "      <td>2.06</td>\n",
       "      <td>2.46</td>\n",
       "      <td>21.6</td>\n",
       "      <td>84.0</td>\n",
       "      <td>1.95</td>\n",
       "      <td>1.69</td>\n",
       "      <td>0.48</td>\n",
       "      <td>1.35</td>\n",
       "      <td>2.80</td>\n",
       "      <td>1.00</td>\n",
       "      <td>2.75</td>\n",
       "      <td>680.0</td>\n",
       "    </tr>\n",
       "    <tr>\n",
       "      <th>94</th>\n",
       "      <td>11.62</td>\n",
       "      <td>1.99</td>\n",
       "      <td>2.28</td>\n",
       "      <td>18.0</td>\n",
       "      <td>98.0</td>\n",
       "      <td>3.02</td>\n",
       "      <td>2.26</td>\n",
       "      <td>0.17</td>\n",
       "      <td>1.35</td>\n",
       "      <td>3.25</td>\n",
       "      <td>1.16</td>\n",
       "      <td>2.96</td>\n",
       "      <td>345.0</td>\n",
       "    </tr>\n",
       "    <tr>\n",
       "      <th>96</th>\n",
       "      <td>11.81</td>\n",
       "      <td>2.12</td>\n",
       "      <td>2.74</td>\n",
       "      <td>21.5</td>\n",
       "      <td>134.0</td>\n",
       "      <td>1.60</td>\n",
       "      <td>0.99</td>\n",
       "      <td>0.14</td>\n",
       "      <td>1.56</td>\n",
       "      <td>2.50</td>\n",
       "      <td>0.95</td>\n",
       "      <td>2.26</td>\n",
       "      <td>625.0</td>\n",
       "    </tr>\n",
       "    <tr>\n",
       "      <th>103</th>\n",
       "      <td>11.82</td>\n",
       "      <td>1.72</td>\n",
       "      <td>1.88</td>\n",
       "      <td>19.5</td>\n",
       "      <td>86.0</td>\n",
       "      <td>2.50</td>\n",
       "      <td>1.64</td>\n",
       "      <td>0.37</td>\n",
       "      <td>1.42</td>\n",
       "      <td>2.06</td>\n",
       "      <td>0.94</td>\n",
       "      <td>2.44</td>\n",
       "      <td>415.0</td>\n",
       "    </tr>\n",
       "    <tr>\n",
       "      <th>109</th>\n",
       "      <td>11.61</td>\n",
       "      <td>1.35</td>\n",
       "      <td>2.70</td>\n",
       "      <td>20.0</td>\n",
       "      <td>94.0</td>\n",
       "      <td>2.74</td>\n",
       "      <td>2.92</td>\n",
       "      <td>0.29</td>\n",
       "      <td>2.49</td>\n",
       "      <td>2.65</td>\n",
       "      <td>0.96</td>\n",
       "      <td>3.26</td>\n",
       "      <td>680.0</td>\n",
       "    </tr>\n",
       "    <tr>\n",
       "      <th>110</th>\n",
       "      <td>11.46</td>\n",
       "      <td>3.74</td>\n",
       "      <td>1.82</td>\n",
       "      <td>19.5</td>\n",
       "      <td>107.0</td>\n",
       "      <td>3.18</td>\n",
       "      <td>2.58</td>\n",
       "      <td>0.24</td>\n",
       "      <td>3.58</td>\n",
       "      <td>2.90</td>\n",
       "      <td>0.75</td>\n",
       "      <td>2.81</td>\n",
       "      <td>562.0</td>\n",
       "    </tr>\n",
       "    <tr>\n",
       "      <th>112</th>\n",
       "      <td>11.76</td>\n",
       "      <td>2.68</td>\n",
       "      <td>2.92</td>\n",
       "      <td>20.0</td>\n",
       "      <td>103.0</td>\n",
       "      <td>1.75</td>\n",
       "      <td>2.03</td>\n",
       "      <td>0.60</td>\n",
       "      <td>1.05</td>\n",
       "      <td>3.80</td>\n",
       "      <td>1.23</td>\n",
       "      <td>2.50</td>\n",
       "      <td>607.0</td>\n",
       "    </tr>\n",
       "    <tr>\n",
       "      <th>113</th>\n",
       "      <td>11.41</td>\n",
       "      <td>0.74</td>\n",
       "      <td>2.50</td>\n",
       "      <td>21.0</td>\n",
       "      <td>88.0</td>\n",
       "      <td>2.48</td>\n",
       "      <td>2.01</td>\n",
       "      <td>0.42</td>\n",
       "      <td>1.44</td>\n",
       "      <td>3.08</td>\n",
       "      <td>1.10</td>\n",
       "      <td>2.31</td>\n",
       "      <td>434.0</td>\n",
       "    </tr>\n",
       "    <tr>\n",
       "      <th>115</th>\n",
       "      <td>11.03</td>\n",
       "      <td>1.51</td>\n",
       "      <td>2.20</td>\n",
       "      <td>21.5</td>\n",
       "      <td>85.0</td>\n",
       "      <td>2.46</td>\n",
       "      <td>2.17</td>\n",
       "      <td>0.52</td>\n",
       "      <td>2.01</td>\n",
       "      <td>1.90</td>\n",
       "      <td>1.71</td>\n",
       "      <td>2.87</td>\n",
       "      <td>407.0</td>\n",
       "    </tr>\n",
       "    <tr>\n",
       "      <th>116</th>\n",
       "      <td>11.82</td>\n",
       "      <td>1.47</td>\n",
       "      <td>1.99</td>\n",
       "      <td>20.8</td>\n",
       "      <td>86.0</td>\n",
       "      <td>1.98</td>\n",
       "      <td>1.60</td>\n",
       "      <td>0.30</td>\n",
       "      <td>1.53</td>\n",
       "      <td>1.95</td>\n",
       "      <td>0.95</td>\n",
       "      <td>3.33</td>\n",
       "      <td>495.0</td>\n",
       "    </tr>\n",
       "    <tr>\n",
       "      <th>120</th>\n",
       "      <td>11.45</td>\n",
       "      <td>2.40</td>\n",
       "      <td>2.42</td>\n",
       "      <td>20.0</td>\n",
       "      <td>96.0</td>\n",
       "      <td>2.90</td>\n",
       "      <td>2.79</td>\n",
       "      <td>0.32</td>\n",
       "      <td>1.83</td>\n",
       "      <td>3.25</td>\n",
       "      <td>0.80</td>\n",
       "      <td>3.39</td>\n",
       "      <td>625.0</td>\n",
       "    </tr>\n",
       "    <tr>\n",
       "      <th>121</th>\n",
       "      <td>11.56</td>\n",
       "      <td>2.05</td>\n",
       "      <td>3.23</td>\n",
       "      <td>28.5</td>\n",
       "      <td>119.0</td>\n",
       "      <td>3.18</td>\n",
       "      <td>5.08</td>\n",
       "      <td>0.47</td>\n",
       "      <td>1.87</td>\n",
       "      <td>6.00</td>\n",
       "      <td>0.93</td>\n",
       "      <td>3.69</td>\n",
       "      <td>465.0</td>\n",
       "    </tr>\n",
       "    <tr>\n",
       "      <th>124</th>\n",
       "      <td>11.87</td>\n",
       "      <td>4.31</td>\n",
       "      <td>2.39</td>\n",
       "      <td>21.0</td>\n",
       "      <td>82.0</td>\n",
       "      <td>2.86</td>\n",
       "      <td>3.03</td>\n",
       "      <td>0.21</td>\n",
       "      <td>2.91</td>\n",
       "      <td>2.80</td>\n",
       "      <td>0.75</td>\n",
       "      <td>3.64</td>\n",
       "      <td>380.0</td>\n",
       "    </tr>\n",
       "    <tr>\n",
       "      <th>127</th>\n",
       "      <td>11.79</td>\n",
       "      <td>2.13</td>\n",
       "      <td>2.78</td>\n",
       "      <td>28.5</td>\n",
       "      <td>92.0</td>\n",
       "      <td>2.13</td>\n",
       "      <td>2.24</td>\n",
       "      <td>0.58</td>\n",
       "      <td>1.76</td>\n",
       "      <td>3.00</td>\n",
       "      <td>0.97</td>\n",
       "      <td>2.44</td>\n",
       "      <td>466.0</td>\n",
       "    </tr>\n",
       "  </tbody>\n",
       "</table>\n",
       "</div>"
      ],
      "text/plain": [
       "     alcohol  malic_acid   ash  alcalinity_of_ash  magnesium  total_phenols  \\\n",
       "74     11.96        1.09  2.30               21.0      101.0           3.38   \n",
       "75     11.66        1.88  1.92               16.0       97.0           1.61   \n",
       "77     11.84        2.89  2.23               18.0      112.0           1.72   \n",
       "84     11.84        0.89  2.58               18.0       94.0           2.20   \n",
       "87     11.65        1.67  2.62               26.0       88.0           1.92   \n",
       "88     11.64        2.06  2.46               21.6       84.0           1.95   \n",
       "94     11.62        1.99  2.28               18.0       98.0           3.02   \n",
       "96     11.81        2.12  2.74               21.5      134.0           1.60   \n",
       "103    11.82        1.72  1.88               19.5       86.0           2.50   \n",
       "109    11.61        1.35  2.70               20.0       94.0           2.74   \n",
       "110    11.46        3.74  1.82               19.5      107.0           3.18   \n",
       "112    11.76        2.68  2.92               20.0      103.0           1.75   \n",
       "113    11.41        0.74  2.50               21.0       88.0           2.48   \n",
       "115    11.03        1.51  2.20               21.5       85.0           2.46   \n",
       "116    11.82        1.47  1.99               20.8       86.0           1.98   \n",
       "120    11.45        2.40  2.42               20.0       96.0           2.90   \n",
       "121    11.56        2.05  3.23               28.5      119.0           3.18   \n",
       "124    11.87        4.31  2.39               21.0       82.0           2.86   \n",
       "127    11.79        2.13  2.78               28.5       92.0           2.13   \n",
       "\n",
       "     flavanoids  nonflavanoid_phenols  proanthocyanins  color_intensity   hue  \\\n",
       "74         2.14                  0.13             1.65             3.21  0.99   \n",
       "75         1.57                  0.34             1.15             3.80  1.23   \n",
       "77         1.32                  0.43             0.95             2.65  0.96   \n",
       "84         2.21                  0.22             2.35             3.05  0.79   \n",
       "87         1.61                  0.40             1.34             2.60  1.36   \n",
       "88         1.69                  0.48             1.35             2.80  1.00   \n",
       "94         2.26                  0.17             1.35             3.25  1.16   \n",
       "96         0.99                  0.14             1.56             2.50  0.95   \n",
       "103        1.64                  0.37             1.42             2.06  0.94   \n",
       "109        2.92                  0.29             2.49             2.65  0.96   \n",
       "110        2.58                  0.24             3.58             2.90  0.75   \n",
       "112        2.03                  0.60             1.05             3.80  1.23   \n",
       "113        2.01                  0.42             1.44             3.08  1.10   \n",
       "115        2.17                  0.52             2.01             1.90  1.71   \n",
       "116        1.60                  0.30             1.53             1.95  0.95   \n",
       "120        2.79                  0.32             1.83             3.25  0.80   \n",
       "121        5.08                  0.47             1.87             6.00  0.93   \n",
       "124        3.03                  0.21             2.91             2.80  0.75   \n",
       "127        2.24                  0.58             1.76             3.00  0.97   \n",
       "\n",
       "     od280/od315_of_diluted_wines  proline  \n",
       "74                           3.13    886.0  \n",
       "75                           2.14    428.0  \n",
       "77                           2.52    500.0  \n",
       "84                           3.08    520.0  \n",
       "87                           3.21    562.0  \n",
       "88                           2.75    680.0  \n",
       "94                           2.96    345.0  \n",
       "96                           2.26    625.0  \n",
       "103                          2.44    415.0  \n",
       "109                          3.26    680.0  \n",
       "110                          2.81    562.0  \n",
       "112                          2.50    607.0  \n",
       "113                          2.31    434.0  \n",
       "115                          2.87    407.0  \n",
       "116                          3.33    495.0  \n",
       "120                          3.39    625.0  \n",
       "121                          3.69    465.0  \n",
       "124                          3.64    380.0  \n",
       "127                          2.44    466.0  "
      ]
     },
     "execution_count": 63,
     "metadata": {},
     "output_type": "execute_result"
    }
   ],
   "source": [
    "df.loc[df['alcohol'] < 12]"
   ]
  },
  {
   "cell_type": "markdown",
   "metadata": {},
   "source": [
    "You can verify that simply using `df[df['alcohol'] < 12]`, you can obtain the same result."
   ]
  },
  {
   "cell_type": "markdown",
   "metadata": {},
   "source": [
    "However, the .`loc` attribute is useful if you'd only want the color intensity for the wines with an alcohol percentage below 12. You can obtain the result as follows:"
   ]
  },
  {
   "cell_type": "code",
   "execution_count": 64,
   "metadata": {},
   "outputs": [
    {
     "data": {
      "application/vnd.microsoft.datawrangler.viewer.v0+json": {
       "columns": [
        {
         "name": "index",
         "rawType": "int64",
         "type": "integer"
        },
        {
         "name": "color_intensity",
         "rawType": "float64",
         "type": "float"
        }
       ],
       "conversionMethod": "pd.DataFrame",
       "ref": "07f34fa3-93e0-4da7-a822-ede20f9a696a",
       "rows": [
        [
         "74",
         "3.21"
        ],
        [
         "75",
         "3.8"
        ],
        [
         "77",
         "2.65"
        ],
        [
         "84",
         "3.05"
        ],
        [
         "87",
         "2.6"
        ],
        [
         "88",
         "2.8"
        ],
        [
         "94",
         "3.25"
        ],
        [
         "96",
         "2.5"
        ],
        [
         "103",
         "2.06"
        ],
        [
         "109",
         "2.65"
        ],
        [
         "110",
         "2.9"
        ],
        [
         "112",
         "3.8"
        ],
        [
         "113",
         "3.08"
        ],
        [
         "115",
         "1.9"
        ],
        [
         "116",
         "1.95"
        ],
        [
         "120",
         "3.25"
        ],
        [
         "121",
         "6.0"
        ],
        [
         "124",
         "2.8"
        ],
        [
         "127",
         "3.0"
        ]
       ],
       "shape": {
        "columns": 1,
        "rows": 19
       }
      },
      "text/html": [
       "<div>\n",
       "<style scoped>\n",
       "    .dataframe tbody tr th:only-of-type {\n",
       "        vertical-align: middle;\n",
       "    }\n",
       "\n",
       "    .dataframe tbody tr th {\n",
       "        vertical-align: top;\n",
       "    }\n",
       "\n",
       "    .dataframe thead th {\n",
       "        text-align: right;\n",
       "    }\n",
       "</style>\n",
       "<table border=\"1\" class=\"dataframe\">\n",
       "  <thead>\n",
       "    <tr style=\"text-align: right;\">\n",
       "      <th></th>\n",
       "      <th>color_intensity</th>\n",
       "    </tr>\n",
       "  </thead>\n",
       "  <tbody>\n",
       "    <tr>\n",
       "      <th>74</th>\n",
       "      <td>3.21</td>\n",
       "    </tr>\n",
       "    <tr>\n",
       "      <th>75</th>\n",
       "      <td>3.80</td>\n",
       "    </tr>\n",
       "    <tr>\n",
       "      <th>77</th>\n",
       "      <td>2.65</td>\n",
       "    </tr>\n",
       "    <tr>\n",
       "      <th>84</th>\n",
       "      <td>3.05</td>\n",
       "    </tr>\n",
       "    <tr>\n",
       "      <th>87</th>\n",
       "      <td>2.60</td>\n",
       "    </tr>\n",
       "    <tr>\n",
       "      <th>88</th>\n",
       "      <td>2.80</td>\n",
       "    </tr>\n",
       "    <tr>\n",
       "      <th>94</th>\n",
       "      <td>3.25</td>\n",
       "    </tr>\n",
       "    <tr>\n",
       "      <th>96</th>\n",
       "      <td>2.50</td>\n",
       "    </tr>\n",
       "    <tr>\n",
       "      <th>103</th>\n",
       "      <td>2.06</td>\n",
       "    </tr>\n",
       "    <tr>\n",
       "      <th>109</th>\n",
       "      <td>2.65</td>\n",
       "    </tr>\n",
       "    <tr>\n",
       "      <th>110</th>\n",
       "      <td>2.90</td>\n",
       "    </tr>\n",
       "    <tr>\n",
       "      <th>112</th>\n",
       "      <td>3.80</td>\n",
       "    </tr>\n",
       "    <tr>\n",
       "      <th>113</th>\n",
       "      <td>3.08</td>\n",
       "    </tr>\n",
       "    <tr>\n",
       "      <th>115</th>\n",
       "      <td>1.90</td>\n",
       "    </tr>\n",
       "    <tr>\n",
       "      <th>116</th>\n",
       "      <td>1.95</td>\n",
       "    </tr>\n",
       "    <tr>\n",
       "      <th>120</th>\n",
       "      <td>3.25</td>\n",
       "    </tr>\n",
       "    <tr>\n",
       "      <th>121</th>\n",
       "      <td>6.00</td>\n",
       "    </tr>\n",
       "    <tr>\n",
       "      <th>124</th>\n",
       "      <td>2.80</td>\n",
       "    </tr>\n",
       "    <tr>\n",
       "      <th>127</th>\n",
       "      <td>3.00</td>\n",
       "    </tr>\n",
       "  </tbody>\n",
       "</table>\n",
       "</div>"
      ],
      "text/plain": [
       "     color_intensity\n",
       "74              3.21\n",
       "75              3.80\n",
       "77              2.65\n",
       "84              3.05\n",
       "87              2.60\n",
       "88              2.80\n",
       "94              3.25\n",
       "96              2.50\n",
       "103             2.06\n",
       "109             2.65\n",
       "110             2.90\n",
       "112             3.80\n",
       "113             3.08\n",
       "115             1.90\n",
       "116             1.95\n",
       "120             3.25\n",
       "121             6.00\n",
       "124             2.80\n",
       "127             3.00"
      ]
     },
     "execution_count": 64,
     "metadata": {},
     "output_type": "execute_result"
    }
   ],
   "source": [
    "df.loc[df['alcohol'] < 12, ['color_intensity']]"
   ]
  },
  {
   "cell_type": "markdown",
   "metadata": {},
   "source": [
    "## Selectors for series"
   ]
  },
  {
   "cell_type": "markdown",
   "metadata": {},
   "source": [
    "Until now we've only really discussed Pandas DataFrames. Most of these methods and selectors are also applicable to Pandas Series. See how you can convert a one-column DataFrame into a Pandas Series:"
   ]
  },
  {
   "cell_type": "code",
   "execution_count": 65,
   "metadata": {},
   "outputs": [],
   "source": [
    "# Let's save our color intensity dataframe into an object col_intensity\n",
    "col_intensity = df['color_intensity']"
   ]
  },
  {
   "cell_type": "code",
   "execution_count": 66,
   "metadata": {},
   "outputs": [
    {
     "data": {
      "text/plain": [
       "pandas.core.series.Series"
      ]
     },
     "execution_count": 66,
     "metadata": {},
     "output_type": "execute_result"
    }
   ],
   "source": [
    "type(col_intensity)"
   ]
  },
  {
   "cell_type": "markdown",
   "metadata": {},
   "source": [
    "Note how `col_intensity` is now a Pandas *Series*."
   ]
  },
  {
   "cell_type": "markdown",
   "metadata": {},
   "source": [
    "Many of the commands discussed before are readily applicable to series:"
   ]
  },
  {
   "cell_type": "code",
   "execution_count": 67,
   "metadata": {},
   "outputs": [
    {
     "data": {
      "text/plain": [
       "0    5.64\n",
       "1    4.38\n",
       "2    5.68\n",
       "Name: color_intensity, dtype: float64"
      ]
     },
     "execution_count": 67,
     "metadata": {},
     "output_type": "execute_result"
    }
   ],
   "source": [
    "col_intensity[0:3]"
   ]
  },
  {
   "cell_type": "code",
   "execution_count": 68,
   "metadata": {},
   "outputs": [
    {
     "data": {
      "text/plain": [
       "18      8.700000\n",
       "49      8.900000\n",
       "144     8.210000\n",
       "148     8.420000\n",
       "149     9.400000\n",
       "150     8.600000\n",
       "151    10.800000\n",
       "153    10.520000\n",
       "156     9.010000\n",
       "158    13.000000\n",
       "159    11.750000\n",
       "164     9.580000\n",
       "166    10.680000\n",
       "167    10.260000\n",
       "168     8.660000\n",
       "169     8.500000\n",
       "171     9.899999\n",
       "172     9.700000\n",
       "175    10.200000\n",
       "176     9.300000\n",
       "177     9.200000\n",
       "Name: color_intensity, dtype: float64"
      ]
     },
     "execution_count": 68,
     "metadata": {},
     "output_type": "execute_result"
    }
   ],
   "source": [
    "# Or col_intensity.loc[col_intensity > 8]\n",
    "col_intensity[col_intensity > 8] "
   ]
  },
  {
   "cell_type": "markdown",
   "metadata": {},
   "source": [
    "## Changing and setting values in DataFrames and series"
   ]
  },
  {
   "cell_type": "markdown",
   "metadata": {},
   "source": [
    "### Changing values"
   ]
  },
  {
   "cell_type": "markdown",
   "metadata": {},
   "source": [
    "Imagine that for some reason, you're not interested in the color intensity values for color intensities above 10, and simply want to set all color intensities to 10 when they are bigger than 10. You can use a selector method and then assign it a new value, just like this:"
   ]
  },
  {
   "cell_type": "code",
   "execution_count": 72,
   "metadata": {},
   "outputs": [],
   "source": [
    "df.loc[df['color_intensity'] > 10, 'color_intensity'] = 10"
   ]
  },
  {
   "cell_type": "markdown",
   "metadata": {},
   "source": [
    "### Creating new columns"
   ]
  },
  {
   "cell_type": "markdown",
   "metadata": {},
   "source": [
    "Now imagine that we want to create a new column named, \"shade\" which has a value, \"light\" when the `color_intensity` is below 7, and, \"dark\" when the intensity is > 7. This can be done as follows:"
   ]
  },
  {
   "cell_type": "code",
   "execution_count": 73,
   "metadata": {},
   "outputs": [
    {
     "data": {
      "application/vnd.microsoft.datawrangler.viewer.v0+json": {
       "columns": [
        {
         "name": "index",
         "rawType": "int64",
         "type": "integer"
        },
        {
         "name": "alcohol",
         "rawType": "float64",
         "type": "float"
        },
        {
         "name": "malic_acid",
         "rawType": "float64",
         "type": "float"
        },
        {
         "name": "ash",
         "rawType": "float64",
         "type": "float"
        },
        {
         "name": "alcalinity_of_ash",
         "rawType": "float64",
         "type": "float"
        },
        {
         "name": "magnesium",
         "rawType": "float64",
         "type": "float"
        },
        {
         "name": "total_phenols",
         "rawType": "float64",
         "type": "float"
        },
        {
         "name": "flavanoids",
         "rawType": "float64",
         "type": "float"
        },
        {
         "name": "nonflavanoid_phenols",
         "rawType": "float64",
         "type": "float"
        },
        {
         "name": "proanthocyanins",
         "rawType": "float64",
         "type": "float"
        },
        {
         "name": "color_intensity",
         "rawType": "float64",
         "type": "float"
        },
        {
         "name": "hue",
         "rawType": "float64",
         "type": "float"
        },
        {
         "name": "od280/od315_of_diluted_wines",
         "rawType": "float64",
         "type": "float"
        },
        {
         "name": "proline",
         "rawType": "float64",
         "type": "float"
        },
        {
         "name": "shade",
         "rawType": "object",
         "type": "string"
        }
       ],
       "conversionMethod": "pd.DataFrame",
       "ref": "1a8178b1-6a46-4b67-b91f-06ae50310d38",
       "rows": [
        [
         "0",
         "14.23",
         "1.71",
         "2.43",
         "15.6",
         "127.0",
         "2.8",
         "3.06",
         "0.28",
         "2.29",
         "5.64",
         "1.04",
         "3.92",
         "1065.0",
         "light"
        ],
        [
         "1",
         "13.2",
         "1.78",
         "2.14",
         "11.2",
         "100.0",
         "2.65",
         "2.76",
         "0.26",
         "1.28",
         "4.38",
         "1.05",
         "3.4",
         "1050.0",
         "light"
        ],
        [
         "2",
         "13.16",
         "2.36",
         "2.67",
         "18.6",
         "101.0",
         "2.8",
         "3.24",
         "0.3",
         "2.81",
         "5.68",
         "1.03",
         "3.17",
         "1185.0",
         "light"
        ],
        [
         "3",
         "14.37",
         "1.95",
         "2.5",
         "16.8",
         "113.0",
         "3.85",
         "3.49",
         "0.24",
         "2.18",
         "7.8",
         "0.86",
         "3.45",
         "1480.0",
         "dark"
        ],
        [
         "4",
         "13.24",
         "2.59",
         "2.87",
         "21.0",
         "118.0",
         "2.8",
         "2.69",
         "0.39",
         "1.82",
         "4.32",
         "1.04",
         "2.93",
         "735.0",
         "light"
        ],
        [
         "5",
         "14.2",
         "1.76",
         "2.45",
         "15.2",
         "112.0",
         "3.27",
         "3.39",
         "0.34",
         "1.97",
         "6.75",
         "1.05",
         "2.85",
         "1450.0",
         "light"
        ],
        [
         "6",
         "14.39",
         "1.87",
         "2.45",
         "14.6",
         "96.0",
         "2.5",
         "2.52",
         "0.3",
         "1.98",
         "5.25",
         "1.02",
         "3.58",
         "1290.0",
         "light"
        ],
        [
         "7",
         "14.06",
         "2.15",
         "2.61",
         "17.6",
         "121.0",
         "2.6",
         "2.51",
         "0.31",
         "1.25",
         "5.05",
         "1.06",
         "3.58",
         "1295.0",
         "light"
        ],
        [
         "8",
         "14.83",
         "1.64",
         "2.17",
         "14.0",
         "97.0",
         "2.8",
         "2.98",
         "0.29",
         "1.98",
         "5.2",
         "1.08",
         "2.85",
         "1045.0",
         "light"
        ],
        [
         "9",
         "13.86",
         "1.35",
         "2.27",
         "16.0",
         "98.0",
         "2.98",
         "3.15",
         "0.22",
         "1.85",
         "7.22",
         "1.01",
         "3.55",
         "1045.0",
         "dark"
        ],
        [
         "10",
         "14.1",
         "2.16",
         "2.3",
         "18.0",
         "105.0",
         "2.95",
         "3.32",
         "0.22",
         "2.38",
         "5.75",
         "1.25",
         "3.17",
         "1510.0",
         "light"
        ],
        [
         "11",
         "14.12",
         "1.48",
         "2.32",
         "16.8",
         "95.0",
         "2.2",
         "2.43",
         "0.26",
         "1.57",
         "5.0",
         "1.17",
         "2.82",
         "1280.0",
         "light"
        ],
        [
         "12",
         "13.75",
         "1.73",
         "2.41",
         "16.0",
         "89.0",
         "2.6",
         "2.76",
         "0.29",
         "1.81",
         "5.6",
         "1.15",
         "2.9",
         "1320.0",
         "light"
        ],
        [
         "13",
         "14.75",
         "1.73",
         "2.39",
         "11.4",
         "91.0",
         "3.1",
         "3.69",
         "0.43",
         "2.81",
         "5.4",
         "1.25",
         "2.73",
         "1150.0",
         "light"
        ],
        [
         "14",
         "14.38",
         "1.87",
         "2.38",
         "12.0",
         "102.0",
         "3.3",
         "3.64",
         "0.29",
         "2.96",
         "7.5",
         "1.2",
         "3.0",
         "1547.0",
         "dark"
        ],
        [
         "15",
         "13.63",
         "1.81",
         "2.7",
         "17.2",
         "112.0",
         "2.85",
         "2.91",
         "0.3",
         "1.46",
         "7.3",
         "1.28",
         "2.88",
         "1310.0",
         "dark"
        ],
        [
         "16",
         "14.3",
         "1.92",
         "2.72",
         "20.0",
         "120.0",
         "2.8",
         "3.14",
         "0.33",
         "1.97",
         "6.2",
         "1.07",
         "2.65",
         "1280.0",
         "light"
        ],
        [
         "17",
         "13.83",
         "1.57",
         "2.62",
         "20.0",
         "115.0",
         "2.95",
         "3.4",
         "0.4",
         "1.72",
         "6.6",
         "1.13",
         "2.57",
         "1130.0",
         "light"
        ],
        [
         "18",
         "14.19",
         "1.59",
         "2.48",
         "16.5",
         "108.0",
         "3.3",
         "3.93",
         "0.32",
         "1.86",
         "8.7",
         "1.23",
         "2.82",
         "1680.0",
         "dark"
        ],
        [
         "19",
         "13.64",
         "3.1",
         "2.56",
         "15.2",
         "116.0",
         "2.7",
         "3.03",
         "0.17",
         "1.66",
         "5.1",
         "0.96",
         "3.36",
         "845.0",
         "light"
        ],
        [
         "20",
         "14.06",
         "1.63",
         "2.28",
         "16.0",
         "126.0",
         "3.0",
         "3.17",
         "0.24",
         "2.1",
         "5.65",
         "1.09",
         "3.71",
         "780.0",
         "light"
        ],
        [
         "21",
         "12.93",
         "3.8",
         "2.65",
         "18.6",
         "102.0",
         "2.41",
         "2.41",
         "0.25",
         "1.98",
         "4.5",
         "1.03",
         "3.52",
         "770.0",
         "light"
        ],
        [
         "22",
         "13.71",
         "1.86",
         "2.36",
         "16.6",
         "101.0",
         "2.61",
         "2.88",
         "0.27",
         "1.69",
         "3.8",
         "1.11",
         "4.0",
         "1035.0",
         "light"
        ],
        [
         "23",
         "12.85",
         "1.6",
         "2.52",
         "17.8",
         "95.0",
         "2.48",
         "2.37",
         "0.26",
         "1.46",
         "3.93",
         "1.09",
         "3.63",
         "1015.0",
         "light"
        ],
        [
         "24",
         "13.5",
         "1.81",
         "2.61",
         "20.0",
         "96.0",
         "2.53",
         "2.61",
         "0.28",
         "1.66",
         "3.52",
         "1.12",
         "3.82",
         "845.0",
         "light"
        ],
        [
         "25",
         "13.05",
         "2.05",
         "3.22",
         "25.0",
         "124.0",
         "2.63",
         "2.68",
         "0.47",
         "1.92",
         "3.58",
         "1.13",
         "3.2",
         "830.0",
         "light"
        ],
        [
         "26",
         "13.39",
         "1.77",
         "2.62",
         "16.1",
         "93.0",
         "2.85",
         "2.94",
         "0.34",
         "1.45",
         "4.8",
         "0.92",
         "3.22",
         "1195.0",
         "light"
        ],
        [
         "27",
         "13.3",
         "1.72",
         "2.14",
         "17.0",
         "94.0",
         "2.4",
         "2.19",
         "0.27",
         "1.35",
         "3.95",
         "1.02",
         "2.77",
         "1285.0",
         "light"
        ],
        [
         "28",
         "13.87",
         "1.9",
         "2.8",
         "19.4",
         "107.0",
         "2.95",
         "2.97",
         "0.37",
         "1.76",
         "4.5",
         "1.25",
         "3.4",
         "915.0",
         "light"
        ],
        [
         "29",
         "14.02",
         "1.68",
         "2.21",
         "16.0",
         "96.0",
         "2.65",
         "2.33",
         "0.26",
         "1.98",
         "4.7",
         "1.04",
         "3.59",
         "1035.0",
         "light"
        ],
        [
         "30",
         "13.73",
         "1.5",
         "2.7",
         "22.5",
         "101.0",
         "3.0",
         "3.25",
         "0.29",
         "2.38",
         "5.7",
         "1.19",
         "2.71",
         "1285.0",
         "light"
        ],
        [
         "31",
         "13.58",
         "1.66",
         "2.36",
         "19.1",
         "106.0",
         "2.86",
         "3.19",
         "0.22",
         "1.95",
         "6.9",
         "1.09",
         "2.88",
         "1515.0",
         "light"
        ],
        [
         "32",
         "13.68",
         "1.83",
         "2.36",
         "17.2",
         "104.0",
         "2.42",
         "2.69",
         "0.42",
         "1.97",
         "3.84",
         "1.23",
         "2.87",
         "990.0",
         "light"
        ],
        [
         "33",
         "13.76",
         "1.53",
         "2.7",
         "19.5",
         "132.0",
         "2.95",
         "2.74",
         "0.5",
         "1.35",
         "5.4",
         "1.25",
         "3.0",
         "1235.0",
         "light"
        ],
        [
         "34",
         "13.51",
         "1.8",
         "2.65",
         "19.0",
         "110.0",
         "2.35",
         "2.53",
         "0.29",
         "1.54",
         "4.2",
         "1.1",
         "2.87",
         "1095.0",
         "light"
        ],
        [
         "35",
         "13.48",
         "1.81",
         "2.41",
         "20.5",
         "100.0",
         "2.7",
         "2.98",
         "0.26",
         "1.86",
         "5.1",
         "1.04",
         "3.47",
         "920.0",
         "light"
        ],
        [
         "36",
         "13.28",
         "1.64",
         "2.84",
         "15.5",
         "110.0",
         "2.6",
         "2.68",
         "0.34",
         "1.36",
         "4.6",
         "1.09",
         "2.78",
         "880.0",
         "light"
        ],
        [
         "37",
         "13.05",
         "1.65",
         "2.55",
         "18.0",
         "98.0",
         "2.45",
         "2.43",
         "0.29",
         "1.44",
         "4.25",
         "1.12",
         "2.51",
         "1105.0",
         "light"
        ],
        [
         "38",
         "13.07",
         "1.5",
         "2.1",
         "15.5",
         "98.0",
         "2.4",
         "2.64",
         "0.28",
         "1.37",
         "3.7",
         "1.18",
         "2.69",
         "1020.0",
         "light"
        ],
        [
         "39",
         "14.22",
         "3.99",
         "2.51",
         "13.2",
         "128.0",
         "3.0",
         "3.04",
         "0.2",
         "2.08",
         "5.1",
         "0.89",
         "3.53",
         "760.0",
         "light"
        ],
        [
         "40",
         "13.56",
         "1.71",
         "2.31",
         "16.2",
         "117.0",
         "3.15",
         "3.29",
         "0.34",
         "2.34",
         "6.13",
         "0.95",
         "3.38",
         "795.0",
         "light"
        ],
        [
         "41",
         "13.41",
         "3.84",
         "2.12",
         "18.8",
         "90.0",
         "2.45",
         "2.68",
         "0.27",
         "1.48",
         "4.28",
         "0.91",
         "3.0",
         "1035.0",
         "light"
        ],
        [
         "42",
         "13.88",
         "1.89",
         "2.59",
         "15.0",
         "101.0",
         "3.25",
         "3.56",
         "0.17",
         "1.7",
         "5.43",
         "0.88",
         "3.56",
         "1095.0",
         "light"
        ],
        [
         "43",
         "13.24",
         "3.98",
         "2.29",
         "17.5",
         "103.0",
         "2.64",
         "2.63",
         "0.32",
         "1.66",
         "4.36",
         "0.82",
         "3.0",
         "680.0",
         "light"
        ],
        [
         "44",
         "13.05",
         "1.77",
         "2.1",
         "17.0",
         "107.0",
         "3.0",
         "3.0",
         "0.28",
         "2.03",
         "5.04",
         "0.88",
         "3.35",
         "885.0",
         "light"
        ],
        [
         "45",
         "14.21",
         "4.04",
         "2.44",
         "18.9",
         "111.0",
         "2.85",
         "2.65",
         "0.3",
         "1.25",
         "5.24",
         "0.87",
         "3.33",
         "1080.0",
         "light"
        ],
        [
         "46",
         "14.38",
         "3.59",
         "2.28",
         "16.0",
         "102.0",
         "3.25",
         "3.17",
         "0.27",
         "2.19",
         "4.9",
         "1.04",
         "3.44",
         "1065.0",
         "light"
        ],
        [
         "47",
         "13.9",
         "1.68",
         "2.12",
         "16.0",
         "101.0",
         "3.1",
         "3.39",
         "0.21",
         "2.14",
         "6.1",
         "0.91",
         "3.33",
         "985.0",
         "light"
        ],
        [
         "48",
         "14.1",
         "2.02",
         "2.4",
         "18.8",
         "103.0",
         "2.75",
         "2.92",
         "0.32",
         "2.38",
         "6.2",
         "1.07",
         "2.75",
         "1060.0",
         "light"
        ],
        [
         "49",
         "13.94",
         "1.73",
         "2.27",
         "17.4",
         "108.0",
         "2.88",
         "3.54",
         "0.32",
         "2.08",
         "8.9",
         "1.12",
         "3.1",
         "1260.0",
         "dark"
        ]
       ],
       "shape": {
        "columns": 14,
        "rows": 178
       }
      },
      "text/html": [
       "<div>\n",
       "<style scoped>\n",
       "    .dataframe tbody tr th:only-of-type {\n",
       "        vertical-align: middle;\n",
       "    }\n",
       "\n",
       "    .dataframe tbody tr th {\n",
       "        vertical-align: top;\n",
       "    }\n",
       "\n",
       "    .dataframe thead th {\n",
       "        text-align: right;\n",
       "    }\n",
       "</style>\n",
       "<table border=\"1\" class=\"dataframe\">\n",
       "  <thead>\n",
       "    <tr style=\"text-align: right;\">\n",
       "      <th></th>\n",
       "      <th>alcohol</th>\n",
       "      <th>malic_acid</th>\n",
       "      <th>ash</th>\n",
       "      <th>alcalinity_of_ash</th>\n",
       "      <th>magnesium</th>\n",
       "      <th>total_phenols</th>\n",
       "      <th>flavanoids</th>\n",
       "      <th>nonflavanoid_phenols</th>\n",
       "      <th>proanthocyanins</th>\n",
       "      <th>color_intensity</th>\n",
       "      <th>hue</th>\n",
       "      <th>od280/od315_of_diluted_wines</th>\n",
       "      <th>proline</th>\n",
       "      <th>shade</th>\n",
       "    </tr>\n",
       "  </thead>\n",
       "  <tbody>\n",
       "    <tr>\n",
       "      <th>0</th>\n",
       "      <td>14.23</td>\n",
       "      <td>1.71</td>\n",
       "      <td>2.43</td>\n",
       "      <td>15.6</td>\n",
       "      <td>127.0</td>\n",
       "      <td>2.80</td>\n",
       "      <td>3.06</td>\n",
       "      <td>0.28</td>\n",
       "      <td>2.29</td>\n",
       "      <td>5.64</td>\n",
       "      <td>1.04</td>\n",
       "      <td>3.92</td>\n",
       "      <td>1065.0</td>\n",
       "      <td>light</td>\n",
       "    </tr>\n",
       "    <tr>\n",
       "      <th>1</th>\n",
       "      <td>13.20</td>\n",
       "      <td>1.78</td>\n",
       "      <td>2.14</td>\n",
       "      <td>11.2</td>\n",
       "      <td>100.0</td>\n",
       "      <td>2.65</td>\n",
       "      <td>2.76</td>\n",
       "      <td>0.26</td>\n",
       "      <td>1.28</td>\n",
       "      <td>4.38</td>\n",
       "      <td>1.05</td>\n",
       "      <td>3.40</td>\n",
       "      <td>1050.0</td>\n",
       "      <td>light</td>\n",
       "    </tr>\n",
       "    <tr>\n",
       "      <th>2</th>\n",
       "      <td>13.16</td>\n",
       "      <td>2.36</td>\n",
       "      <td>2.67</td>\n",
       "      <td>18.6</td>\n",
       "      <td>101.0</td>\n",
       "      <td>2.80</td>\n",
       "      <td>3.24</td>\n",
       "      <td>0.30</td>\n",
       "      <td>2.81</td>\n",
       "      <td>5.68</td>\n",
       "      <td>1.03</td>\n",
       "      <td>3.17</td>\n",
       "      <td>1185.0</td>\n",
       "      <td>light</td>\n",
       "    </tr>\n",
       "    <tr>\n",
       "      <th>3</th>\n",
       "      <td>14.37</td>\n",
       "      <td>1.95</td>\n",
       "      <td>2.50</td>\n",
       "      <td>16.8</td>\n",
       "      <td>113.0</td>\n",
       "      <td>3.85</td>\n",
       "      <td>3.49</td>\n",
       "      <td>0.24</td>\n",
       "      <td>2.18</td>\n",
       "      <td>7.80</td>\n",
       "      <td>0.86</td>\n",
       "      <td>3.45</td>\n",
       "      <td>1480.0</td>\n",
       "      <td>dark</td>\n",
       "    </tr>\n",
       "    <tr>\n",
       "      <th>4</th>\n",
       "      <td>13.24</td>\n",
       "      <td>2.59</td>\n",
       "      <td>2.87</td>\n",
       "      <td>21.0</td>\n",
       "      <td>118.0</td>\n",
       "      <td>2.80</td>\n",
       "      <td>2.69</td>\n",
       "      <td>0.39</td>\n",
       "      <td>1.82</td>\n",
       "      <td>4.32</td>\n",
       "      <td>1.04</td>\n",
       "      <td>2.93</td>\n",
       "      <td>735.0</td>\n",
       "      <td>light</td>\n",
       "    </tr>\n",
       "    <tr>\n",
       "      <th>...</th>\n",
       "      <td>...</td>\n",
       "      <td>...</td>\n",
       "      <td>...</td>\n",
       "      <td>...</td>\n",
       "      <td>...</td>\n",
       "      <td>...</td>\n",
       "      <td>...</td>\n",
       "      <td>...</td>\n",
       "      <td>...</td>\n",
       "      <td>...</td>\n",
       "      <td>...</td>\n",
       "      <td>...</td>\n",
       "      <td>...</td>\n",
       "      <td>...</td>\n",
       "    </tr>\n",
       "    <tr>\n",
       "      <th>173</th>\n",
       "      <td>13.71</td>\n",
       "      <td>5.65</td>\n",
       "      <td>2.45</td>\n",
       "      <td>20.5</td>\n",
       "      <td>95.0</td>\n",
       "      <td>1.68</td>\n",
       "      <td>0.61</td>\n",
       "      <td>0.52</td>\n",
       "      <td>1.06</td>\n",
       "      <td>7.70</td>\n",
       "      <td>0.64</td>\n",
       "      <td>1.74</td>\n",
       "      <td>740.0</td>\n",
       "      <td>dark</td>\n",
       "    </tr>\n",
       "    <tr>\n",
       "      <th>174</th>\n",
       "      <td>13.40</td>\n",
       "      <td>3.91</td>\n",
       "      <td>2.48</td>\n",
       "      <td>23.0</td>\n",
       "      <td>102.0</td>\n",
       "      <td>1.80</td>\n",
       "      <td>0.75</td>\n",
       "      <td>0.43</td>\n",
       "      <td>1.41</td>\n",
       "      <td>7.30</td>\n",
       "      <td>0.70</td>\n",
       "      <td>1.56</td>\n",
       "      <td>750.0</td>\n",
       "      <td>dark</td>\n",
       "    </tr>\n",
       "    <tr>\n",
       "      <th>175</th>\n",
       "      <td>13.27</td>\n",
       "      <td>4.28</td>\n",
       "      <td>2.26</td>\n",
       "      <td>20.0</td>\n",
       "      <td>120.0</td>\n",
       "      <td>1.59</td>\n",
       "      <td>0.69</td>\n",
       "      <td>0.43</td>\n",
       "      <td>1.35</td>\n",
       "      <td>10.00</td>\n",
       "      <td>0.59</td>\n",
       "      <td>1.56</td>\n",
       "      <td>835.0</td>\n",
       "      <td>dark</td>\n",
       "    </tr>\n",
       "    <tr>\n",
       "      <th>176</th>\n",
       "      <td>13.17</td>\n",
       "      <td>2.59</td>\n",
       "      <td>2.37</td>\n",
       "      <td>20.0</td>\n",
       "      <td>120.0</td>\n",
       "      <td>1.65</td>\n",
       "      <td>0.68</td>\n",
       "      <td>0.53</td>\n",
       "      <td>1.46</td>\n",
       "      <td>9.30</td>\n",
       "      <td>0.60</td>\n",
       "      <td>1.62</td>\n",
       "      <td>840.0</td>\n",
       "      <td>dark</td>\n",
       "    </tr>\n",
       "    <tr>\n",
       "      <th>177</th>\n",
       "      <td>14.13</td>\n",
       "      <td>4.10</td>\n",
       "      <td>2.74</td>\n",
       "      <td>24.5</td>\n",
       "      <td>96.0</td>\n",
       "      <td>2.05</td>\n",
       "      <td>0.76</td>\n",
       "      <td>0.56</td>\n",
       "      <td>1.35</td>\n",
       "      <td>9.20</td>\n",
       "      <td>0.61</td>\n",
       "      <td>1.60</td>\n",
       "      <td>560.0</td>\n",
       "      <td>dark</td>\n",
       "    </tr>\n",
       "  </tbody>\n",
       "</table>\n",
       "<p>178 rows × 14 columns</p>\n",
       "</div>"
      ],
      "text/plain": [
       "     alcohol  malic_acid   ash  alcalinity_of_ash  magnesium  total_phenols  \\\n",
       "0      14.23        1.71  2.43               15.6      127.0           2.80   \n",
       "1      13.20        1.78  2.14               11.2      100.0           2.65   \n",
       "2      13.16        2.36  2.67               18.6      101.0           2.80   \n",
       "3      14.37        1.95  2.50               16.8      113.0           3.85   \n",
       "4      13.24        2.59  2.87               21.0      118.0           2.80   \n",
       "..       ...         ...   ...                ...        ...            ...   \n",
       "173    13.71        5.65  2.45               20.5       95.0           1.68   \n",
       "174    13.40        3.91  2.48               23.0      102.0           1.80   \n",
       "175    13.27        4.28  2.26               20.0      120.0           1.59   \n",
       "176    13.17        2.59  2.37               20.0      120.0           1.65   \n",
       "177    14.13        4.10  2.74               24.5       96.0           2.05   \n",
       "\n",
       "     flavanoids  nonflavanoid_phenols  proanthocyanins  color_intensity   hue  \\\n",
       "0          3.06                  0.28             2.29             5.64  1.04   \n",
       "1          2.76                  0.26             1.28             4.38  1.05   \n",
       "2          3.24                  0.30             2.81             5.68  1.03   \n",
       "3          3.49                  0.24             2.18             7.80  0.86   \n",
       "4          2.69                  0.39             1.82             4.32  1.04   \n",
       "..          ...                   ...              ...              ...   ...   \n",
       "173        0.61                  0.52             1.06             7.70  0.64   \n",
       "174        0.75                  0.43             1.41             7.30  0.70   \n",
       "175        0.69                  0.43             1.35            10.00  0.59   \n",
       "176        0.68                  0.53             1.46             9.30  0.60   \n",
       "177        0.76                  0.56             1.35             9.20  0.61   \n",
       "\n",
       "     od280/od315_of_diluted_wines  proline  shade  \n",
       "0                            3.92   1065.0  light  \n",
       "1                            3.40   1050.0  light  \n",
       "2                            3.17   1185.0  light  \n",
       "3                            3.45   1480.0   dark  \n",
       "4                            2.93    735.0  light  \n",
       "..                            ...      ...    ...  \n",
       "173                          1.74    740.0   dark  \n",
       "174                          1.56    750.0   dark  \n",
       "175                          1.56    835.0   dark  \n",
       "176                          1.62    840.0   dark  \n",
       "177                          1.60    560.0   dark  \n",
       "\n",
       "[178 rows x 14 columns]"
      ]
     },
     "execution_count": 73,
     "metadata": {},
     "output_type": "execute_result"
    }
   ],
   "source": [
    "df.loc[df['color_intensity'] > 7, 'shade'] = 'dark'\n",
    "df.loc[df['color_intensity'] <= 7, 'shade'] = 'light'\n",
    "df"
   ]
  },
  {
   "cell_type": "markdown",
   "metadata": {},
   "source": [
    "If you now look at the output of `df.shape`, you will notice that `df` now has 14 columns. "
   ]
  },
  {
   "cell_type": "code",
   "execution_count": 74,
   "metadata": {},
   "outputs": [
    {
     "data": {
      "text/plain": [
       "(178, 14)"
      ]
     },
     "execution_count": 74,
     "metadata": {},
     "output_type": "execute_result"
    }
   ],
   "source": [
    "df.shape"
   ]
  },
  {
   "cell_type": "markdown",
   "metadata": {},
   "source": [
    "## Summary\n",
    "\n",
    "We've introduced a range of techniques for accessing information in Pandas Series and DataFrames, selecting rows and columns, changing values, and creating new columns."
   ]
  }
 ],
 "metadata": {
  "kernelspec": {
   "display_name": "learn-env",
   "language": "python",
   "name": "python3"
  },
  "language_info": {
   "codemirror_mode": {
    "name": "ipython",
    "version": 3
   },
   "file_extension": ".py",
   "mimetype": "text/x-python",
   "name": "python",
   "nbconvert_exporter": "python",
   "pygments_lexer": "ipython3",
   "version": "3.8.5"
  }
 },
 "nbformat": 4,
 "nbformat_minor": 2
}
